{
 "cells": [
  {
   "cell_type": "markdown",
   "id": "76234b08-1887-4c7c-bd49-f93f82d0677b",
   "metadata": {},
   "source": [
    "# Statistics basics Asiignment 1"
   ]
  },
  {
   "cell_type": "code",
   "execution_count": null,
   "id": "66a8813f-94bf-45d0-b7ed-c2d5b575dca9",
   "metadata": {},
   "outputs": [],
   "source": [
    "#Q1. What is Statistics?"
   ]
  },
  {
   "cell_type": "code",
   "execution_count": null,
   "id": "7f85cf6f-1cd3-480d-959a-ebf2157fabbc",
   "metadata": {},
   "outputs": [],
   "source": [
    "Statistics can be defined as a science of collecting, organizing and analyzing facts/information i.e data which\n",
    "aids in the Decision Making process."
   ]
  },
  {
   "cell_type": "code",
   "execution_count": null,
   "id": "e303dee7-9aaf-475f-b967-b9fd441adfdc",
   "metadata": {},
   "outputs": [],
   "source": [
    "#Q2. Define the different types of statistics and give an example of when each type might be used."
   ]
  },
  {
   "cell_type": "code",
   "execution_count": null,
   "id": "6c542e1f-0392-4ea4-abbe-d395fa6265df",
   "metadata": {},
   "outputs": [],
   "source": [
    "There are 2 types of Statistics\n",
    "A. Descriptive Statistics and\n",
    "B. Inferential Statistics\n",
    "\n",
    "Descriptive Statistics:\n",
    "    It consists of organising and summarising the data.\n",
    "    In this type of statistical analysis the whole data is used to answer the given question\n",
    "    Eg: Calculating the average height of students in class\n",
    "        Calculating the mean weight of people in a office.\n",
    "Inferential Statistics\n",
    "    It consist of using data you have measured to form conclusions\n",
    "    From the sample data we predict the parameters for the Population.\n",
    "    Eg:\n",
    "        Estimating the similarity of height of students in classroom with that of the entire college."
   ]
  },
  {
   "cell_type": "code",
   "execution_count": 2,
   "id": "b7dc14d4-de9b-411c-9944-81c6254243df",
   "metadata": {},
   "outputs": [],
   "source": [
    "# Q3. What are the different types of data and how do they differ from each other? Provide an example of\n",
    "#     each type of data."
   ]
  },
  {
   "cell_type": "code",
   "execution_count": null,
   "id": "c0b5e066-331a-4285-aaf5-858e2171c1cc",
   "metadata": {},
   "outputs": [],
   "source": [
    "Data can be broadly categorised into Quantitaive Data and Qualitative Data\n",
    "1. Quantitative Data:\n",
    "    It consist of Numerical values on which arithmetic and other operations can be performed.\n",
    "    It is further sub divided into Discrete and Continuous Data\n",
    "    Discrete Quantitative Data: Consist of Whole Numbers\n",
    "        Eg: No of Members in Family\n",
    "            No of Bank Accounts\n",
    "    Continuous Quantitative Data : Consists of Any value in decimals as well\n",
    "        Eg: Temperature of surroundings\n",
    "            Weight of Students\n",
    "            Speed of Car\n",
    "2. Qualitative Data:\n",
    "    It consist of categorical variables on which arithmetic operations cannot be performed\n",
    "    It contains such values depending on which the data can be categorised.\n",
    "    It is further of 2 types: Nominal and Ordinal Data\n",
    "    Nominal Qualitative Data: The categorical variable is not ranked\n",
    "        Eg: Gender ( Male or Female)\n",
    "            Blood Group (A,B,AB,O)\n",
    "    Ordinal Qualitative Data: This categorical variable are ranked \n",
    "        Eg: Student Satisfaction  (Best, Good, Bad)"
   ]
  },
  {
   "cell_type": "code",
   "execution_count": null,
   "id": "89568c2c-183c-48f2-8415-fa5f3677a747",
   "metadata": {},
   "outputs": [],
   "source": [
    "# Q4. Categorise the following datasets with respect to quantitative and qualitative data types:\n",
    "# (i) Grading in exam: A+, A, B+, B, C+, C, D, E\n",
    "Ans: Ordinal Qualitative Data\n",
    "# (ii) Colour of mangoes: yellow, green, orange, red\n",
    "Ans: Nominal Qualitative Data\n",
    "# (iii) Height data of a class: [178.9, 179, 179.5, 176, 177.2, 178.3, 175.8,...]\n",
    "Ans: Continuous Quantitative Data\n",
    "# (iv) Number of mangoes exported by a farm: [500, 600, 478, 672, ...]\n",
    "Ans: Discrete Quantitative Data"
   ]
  },
  {
   "cell_type": "code",
   "execution_count": null,
   "id": "14c11e72-ad8b-4d91-bf60-b0e5ac8c30e1",
   "metadata": {},
   "outputs": [],
   "source": [
    "#5. Explain the concept of levels of measurement and give an example of a variable for \n",
    "#each level."
   ]
  },
  {
   "cell_type": "code",
   "execution_count": null,
   "id": "c94c079e-8da2-4ca1-8785-581e07d34ffa",
   "metadata": {},
   "outputs": [],
   "source": [
    "There are 4 levels of Measurement, they are as follows:\n",
    "    1. Nominal Scale Data:\n",
    "        Qualitative or Categorical Data\n",
    "        Order does not matter\n",
    "        Eg:\n",
    "            Gender, Colours, Labels\n",
    "    2. Ordinal Scale data:\n",
    "        Ranking is Important\n",
    "        Order matters\n",
    "        Difference cannot be measured\n",
    "        Eg:\n",
    "            Ranks of Candidates in competitive exam\n",
    "    3. Interval Scale Data:\n",
    "        Order matters\n",
    "        Difference can be measured\n",
    "        Ratio cannot be measured\n",
    "        No True starting point\n",
    "        Eg:\n",
    "            Temperature \n",
    "    4. Ratio Scale of Data:\n",
    "        Order matters\n",
    "        Differences are measurable\n",
    "        Contains true starting point\n",
    "        Eg:\n",
    "            Marks of Students in class."
   ]
  },
  {
   "cell_type": "code",
   "execution_count": null,
   "id": "aad90b13-2fed-4bd9-af15-ae8a083a119c",
   "metadata": {},
   "outputs": [],
   "source": [
    "# Q6. Why is it important to understand the level of measurement when analyzing data? Provide an\n",
    "# example to illustrate your answer."
   ]
  },
  {
   "cell_type": "code",
   "execution_count": null,
   "id": "8496e076-1daf-47a6-a1c8-ea9a5faff428",
   "metadata": {},
   "outputs": [],
   "source": [
    "Level of Measurement is an important parameter based on the classification of data based on\n",
    "Quantitative or Qualitative Type.\n",
    "It is important to determine the type of analysis to be performed whether descriptive or inferential.\n",
    "It also determines the appropriate method of measure of central tendency and measure of dispersion to be adopted.\n",
    "It helps in cleaning and improving the quality of data\n",
    "Eg:\n",
    "    For example in the student performance dataset we have features like subjects , class, marks scored, gender.\n",
    "    Now knowing that Gender is a Nominal  categorical Data we can fill the missing values by the mode. as against \n",
    "    the mean and median which is used for quantitative data.\n",
    "    Now Subjects is also a Nominal Categorical Data\n",
    "    Marks of Students is Ratio Scale of Data through which we can find the difference and can measure it \n",
    "    and it contains a true starting point."
   ]
  },
  {
   "cell_type": "code",
   "execution_count": null,
   "id": "f84dffc2-f1b4-4845-a545-f2fcca58b24c",
   "metadata": {},
   "outputs": [],
   "source": [
    "#Q7. How nominal data type is different from ordinal data type."
   ]
  },
  {
   "cell_type": "code",
   "execution_count": null,
   "id": "dfffc7c7-669d-4f07-b997-52c2f6bc5f8b",
   "metadata": {},
   "outputs": [],
   "source": [
    "Nominal Qualitative Data: The categorical variable is not ranked\n",
    "        Eg: Gender ( Male or Female)\n",
    "            Blood Group (A,B,AB,O)\n",
    "    Ordinal Qualitative Data: This categorical variable are ranked \n",
    "        Eg: Student Satisfaction  (Best, Good, Bad)"
   ]
  },
  {
   "cell_type": "code",
   "execution_count": null,
   "id": "570e3a49-8166-41be-b1d7-049bd1771aab",
   "metadata": {},
   "outputs": [],
   "source": [
    "#Q8. Which type of plot can be used to display data in terms of range?"
   ]
  },
  {
   "cell_type": "code",
   "execution_count": null,
   "id": "9fc41809-01b0-480f-81c6-84ca31286cdf",
   "metadata": {},
   "outputs": [],
   "source": [
    "A histogram can be used to plot the data so that the frequency of data can be known in a particular range."
   ]
  },
  {
   "cell_type": "code",
   "execution_count": null,
   "id": "4d755a89-9b52-417d-a6e3-19ed8064c360",
   "metadata": {},
   "outputs": [],
   "source": [
    "#Q9. Describe the difference between descriptive and inferential statistics. Give an example of each\n",
    "#type of statistics and explain how they are used."
   ]
  },
  {
   "cell_type": "code",
   "execution_count": null,
   "id": "5c9ee688-509e-40af-af2f-041cd4540521",
   "metadata": {},
   "outputs": [],
   "source": [
    "There are 2 types of Statistics\n",
    "A. Descriptive Statistics and\n",
    "B. Inferential Statistics\n",
    "\n",
    "Descriptive Statistics:\n",
    "    It consists of organising and summarising the data.\n",
    "    In this type of statistical analysis the whole data is used to answer the given question\n",
    "    Eg: Calculating the average height of students in class\n",
    "        Calculating the mean weight of people in a office.\n",
    "Inferential Statistics\n",
    "    It consist of using data you have measured to form conclusions\n",
    "    From the sample data we predict the parameters for the Population.\n",
    "    Eg:\n",
    "        Estimating the similarity of height of students in classroom with that of the entire college."
   ]
  },
  {
   "cell_type": "code",
   "execution_count": null,
   "id": "ba37125a-bd04-47cb-942d-bdbf90a52c18",
   "metadata": {},
   "outputs": [],
   "source": [
    "# Q10. What are some common measures of central tendency and variability used in statistics? Explain\n",
    "# how each measure can be used to describe a dataset."
   ]
  },
  {
   "cell_type": "code",
   "execution_count": null,
   "id": "9fc6c5e7-3512-41ec-93ae-1e6fc392a8a9",
   "metadata": {},
   "outputs": [],
   "source": [
    "The Measures of Central Tendency used in statistics are Mean, Median and Mode.\n",
    "Mean: Is used to calculate the average value of Quantitative Data when outliers are removed.\n",
    "    It is used to fill the missing values in case of Discrete or Continuous Data.\n",
    "Median: It is used to calculate the central tendency of data  when outliers are present.\n",
    "    It returns the middle term in case of odd number of records and average of 2 middle terms in case of even records.\n",
    "Mode: It is used to Fill the missing values if the given feature is categorical.\n",
    "    It returns the value that has the maximum frequency."
   ]
  }
 ],
 "metadata": {
  "kernelspec": {
   "display_name": "Python 3 (ipykernel)",
   "language": "python",
   "name": "python3"
  },
  "language_info": {
   "codemirror_mode": {
    "name": "ipython",
    "version": 3
   },
   "file_extension": ".py",
   "mimetype": "text/x-python",
   "name": "python",
   "nbconvert_exporter": "python",
   "pygments_lexer": "ipython3",
   "version": "3.10.8"
  }
 },
 "nbformat": 4,
 "nbformat_minor": 5
}
