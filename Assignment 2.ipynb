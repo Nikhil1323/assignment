{
 "cells": [
  {
   "cell_type": "code",
   "execution_count": 1,
   "id": "fcf3545a-c3b2-4d88-8b83-e1821ad488b1",
   "metadata": {},
   "outputs": [],
   "source": [
    "#Q1. Who developed Python Programming Language?"
   ]
  },
  {
   "cell_type": "markdown",
   "id": "5a317bda-9544-4c84-8dde-23b2683bfef6",
   "metadata": {},
   "source": [
    "Guido Van Russom Created python programming language during the period of late 1980s and was released in the year 1991.\n",
    "Its syntax is simple and similar to populary spoken english language. It is platform independent.\n",
    "It is used for multiple purposes like web development, software development, database management  and complex mathematical operations."
   ]
  },
  {
   "cell_type": "code",
   "execution_count": 2,
   "id": "4a1af73b-8a40-4403-aa1e-91ea372e5b60",
   "metadata": {},
   "outputs": [],
   "source": [
    "#Q2. Which type of programming does Python support?"
   ]
  },
  {
   "cell_type": "code",
   "execution_count": null,
   "id": "3a30bcee-bb2e-47c1-aef2-500d191a9393",
   "metadata": {},
   "outputs": [],
   "source": [
    "Python programming supports Procedural as well as Object oriented Programming (oops). \n",
    "It is dynamic and helps write complex code in fewer lines as compared to other programming languages."
   ]
  },
  {
   "cell_type": "code",
   "execution_count": 3,
   "id": "bc0b262e-3c3c-407f-837d-6caa1c2b9221",
   "metadata": {},
   "outputs": [],
   "source": [
    "#Q3. Is Python case sensitive while dealing with Identifiers?"
   ]
  },
  {
   "cell_type": "code",
   "execution_count": null,
   "id": "077c50bf-6bc8-410b-805a-d0454116852d",
   "metadata": {},
   "outputs": [],
   "source": [
    "Python is a case sensistive language. It considers \"A\" and \"a\" as different.\n",
    "For example\n",
    "1. class Nikhil:  is not same as class nikhil:\n",
    "2. def Yash(): is not same as def yash():\n",
    "3. int A is not same as int a"
   ]
  },
  {
   "cell_type": "code",
   "execution_count": 4,
   "id": "0cb04815-d71b-4776-96ac-e9fcd3f55d58",
   "metadata": {},
   "outputs": [],
   "source": [
    "#Q4. What is the correct extension of python files?"
   ]
  },
  {
   "cell_type": "code",
   "execution_count": null,
   "id": "2def46f1-ce37-4013-8270-34c01cad8c35",
   "metadata": {},
   "outputs": [],
   "source": [
    "Python files are stored as file_name.py. \n",
    "The interpretor identifies files with .py extension as python files to be interpreted."
   ]
  },
  {
   "cell_type": "code",
   "execution_count": 5,
   "id": "54d80ae8-a1bd-4744-a36c-d170aa45f434",
   "metadata": {},
   "outputs": [],
   "source": [
    "#Q5. Is python code compiled or interpreted?"
   ]
  },
  {
   "cell_type": "code",
   "execution_count": null,
   "id": "dfa2f4b6-ea95-4d9e-992a-a238877170ed",
   "metadata": {},
   "outputs": [],
   "source": [
    "Python is both Compiled and Interpreted language.\n",
    "It is interpreted because the python code generates output line by line and stops when it encounters any error.\n",
    "It is compiled language as a byte code is generated when it is compiled but it is destroyed as soon as the program is executed."
   ]
  },
  {
   "cell_type": "code",
   "execution_count": 6,
   "id": "de058d0e-920c-4ba0-9da9-16c74304781e",
   "metadata": {},
   "outputs": [],
   "source": [
    "#Q6. Name a few blocks of code used to define in Python language"
   ]
  },
  {
   "cell_type": "code",
   "execution_count": null,
   "id": "dae481dd-05de-4e25-b7e9-81c6d10c1179",
   "metadata": {},
   "outputs": [],
   "source": [
    "In python language, block of code is set of lines of code in specific indentation, which is found in classes or loops or functions.\n",
    "For example:\n",
    "1. for i in range(10):\n",
    "    pass\n",
    "2. def function_name():\n",
    "    pass\n",
    "3. class class_name:\n",
    "    return 0\n",
    "4. while value <= 10:\n",
    "    pass"
   ]
  },
  {
   "cell_type": "code",
   "execution_count": 7,
   "id": "71885a52-1add-436a-b648-4a727d011b9e",
   "metadata": {},
   "outputs": [],
   "source": [
    "#Q7. State a character used to give single line comments in python."
   ]
  },
  {
   "cell_type": "code",
   "execution_count": null,
   "id": "d7b378a3-7d83-402a-9f79-01fc97a1108c",
   "metadata": {},
   "outputs": [],
   "source": [
    "In python, # is used to give single line comments.\n",
    "For multi line comments Triple double quotes or triple single quotes are used at the start and  end of the comment.\n",
    "Example:\n",
    "# This is a single line comment\n",
    "\"\"\"This is a \n",
    "multiple \n",
    "line \n",
    "comment\n",
    "in python\n",
    "programming\"\"\""
   ]
  },
  {
   "cell_type": "code",
   "execution_count": null,
   "id": "b3fa50c7-73cb-494e-9621-b613bb14dacd",
   "metadata": {},
   "outputs": [],
   "source": [
    "#Q8. Mention functions which can help us to find the version of python that we are currently working on."
   ]
  },
  {
   "cell_type": "code",
   "execution_count": null,
   "id": "d13c089c-9070-4c88-830c-39b8c7170715",
   "metadata": {},
   "outputs": [],
   "source": [
    "While using command prompt, we can check the version of the python using the following 2 commands\n",
    "1. python -V\n",
    "2. python --version\n",
    "3. For python verssion 3.6 and above we can use the following lines of code."
   ]
  },
  {
   "cell_type": "code",
   "execution_count": 12,
   "id": "1014361a-41d2-4e84-8bd6-1591143ef530",
   "metadata": {},
   "outputs": [
    {
     "name": "stdout",
     "output_type": "stream",
     "text": [
      "3.10.8 | packaged by conda-forge | (main, Nov 22 2022, 08:26:04) [GCC 10.4.0]\n"
     ]
    }
   ],
   "source": [
    "import sys\n",
    "print(sys.version)"
   ]
  },
  {
   "cell_type": "code",
   "execution_count": null,
   "id": "8c4ae4c6-9b82-4e6f-9c84-afd0e9013f7d",
   "metadata": {},
   "outputs": [],
   "source": [
    "#Q9. Python supports the creation of anonymous function during the runtime, using a construct called ?"
   ]
  },
  {
   "cell_type": "code",
   "execution_count": null,
   "id": "5dd9e1d4-1bad-4640-8bfd-b7bce736cc6d",
   "metadata": {},
   "outputs": [],
   "source": [
    "The lambda function in python creates a anonymous function during the run time. It is also called as single line function."
   ]
  },
  {
   "cell_type": "code",
   "execution_count": 20,
   "id": "71cd1eec-7dd8-4631-b16c-fb235d1193bc",
   "metadata": {},
   "outputs": [],
   "source": [
    "#Q10. What does pip stand for in python?"
   ]
  },
  {
   "cell_type": "code",
   "execution_count": null,
   "id": "4dc8895c-6c9b-46dc-93bc-aef6672745db",
   "metadata": {},
   "outputs": [],
   "source": [
    "PIP is the python package manager module. it is used to install any particular package.\n",
    "A package is a set of flies that can be used in any program."
   ]
  },
  {
   "cell_type": "code",
   "execution_count": 21,
   "id": "55e92f8e-d7c8-4861-9841-dc0b124c6987",
   "metadata": {},
   "outputs": [],
   "source": [
    "#Q11. Mention a few built in functions in python."
   ]
  },
  {
   "cell_type": "code",
   "execution_count": null,
   "id": "781ca0fd-00c3-44aa-84ad-996d4fd3a864",
   "metadata": {},
   "outputs": [],
   "source": [
    "Python contains various built in functions like\n",
    "1. len() - to calculate the length of the string\n",
    "2. print() - To display the value.\n",
    "3. import - to import the packages to be used\n",
    "4. def - used to create a function\n",
    "5. class - used to create a class \n",
    "6. count() - to count the number of characters or elements in the string or list/tuples.\n",
    "7. isUpper() - returns true if the string characters are all in the upper case.\n",
    "8. range() - it is a generator function. \n",
    "etc"
   ]
  },
  {
   "cell_type": "code",
   "execution_count": 22,
   "id": "62ce1728-ffe7-429d-8461-1646ea845c9d",
   "metadata": {},
   "outputs": [],
   "source": [
    "#Q12. What is the maximum possible length of an identifier in python?"
   ]
  },
  {
   "cell_type": "code",
   "execution_count": null,
   "id": "bf2c81ee-440a-4758-9dc3-d95c89d9cb1d",
   "metadata": {},
   "outputs": [],
   "source": [
    "In python, the identifier can be of any length. but for better readibility, convenience and practicality it is limited to 79 characters."
   ]
  },
  {
   "cell_type": "code",
   "execution_count": 23,
   "id": "9711cdba-ecb4-45f6-9883-eb18cbd30ee0",
   "metadata": {},
   "outputs": [],
   "source": [
    "#Q13. What are the Benefits of Using Python?"
   ]
  },
  {
   "cell_type": "code",
   "execution_count": null,
   "id": "85f2e977-144c-474b-ae31-e45ff43552ad",
   "metadata": {},
   "outputs": [],
   "source": [
    "Python programming language has the following broad benefits\n",
    "1. It is simple and has built in function that are very similar to spoken english\n",
    "2. User needs to write fewer lines of code as compared to other languages.\n",
    "3. As python is both procedural as well as object oriented programming language it gives the necessary flexibility.\n",
    "4. It is open source and hence is free and can be used by anyone.\n",
    "5. It is platform Independent means a user can use it in any system irrespective of using a mac or windows, etc\n",
    "6. It contains various libraries that can be used for solving complex mathematical operations, visualizations, etc\n",
    "7. It can be used for front-end as well as back-end development and provides good mechanism or means for database connectivity."
   ]
  },
  {
   "cell_type": "code",
   "execution_count": 24,
   "id": "a30972f9-b1b9-4902-acae-a177d917cf36",
   "metadata": {},
   "outputs": [],
   "source": [
    "#Q14. How is memory managed in Python?"
   ]
  },
  {
   "cell_type": "code",
   "execution_count": null,
   "id": "0fcae241-a400-43e5-8d5e-7239e0ce2b85",
   "metadata": {},
   "outputs": [],
   "source": [
    "In python, memory management is automatic.\n",
    "It means that the memory is allocated as per the need.\n",
    "Python has automatic garbage collector and hence user need not manually garbage the unused objects and it does not interfere with operations."
   ]
  },
  {
   "cell_type": "code",
   "execution_count": 25,
   "id": "9639260f-fcea-465f-b753-4c4d51b21059",
   "metadata": {},
   "outputs": [],
   "source": [
    "#Q15. How to install Python on windows and set Path variables?"
   ]
  },
  {
   "cell_type": "code",
   "execution_count": null,
   "id": "4d65d329-5fc1-405e-8284-cf552cbdfa56",
   "metadata": {},
   "outputs": [],
   "source": [
    "Steps to install python on windows\n",
    "1. Open a web browser\n",
    "2. In the search bar type \"Python for windows\"\n",
    "3. Open the official \"https://www.python.org/downloads/windows/\"\n",
    "4. Check if your system is 32 bit or 64 bit\n",
    "5. Click on \"Download Windows Installer\" of the respective bit version.\n",
    "6. On clicking the Download button, Download will start.\n",
    "7. Once downloaded Click on install.\n",
    "8. Read the user agreement and click on Next.\n",
    "9. Click Finish.\n",
    "\n",
    "Steps to set Path variable (if the path does not get set by default)\n",
    "1. Right click on \"My computer\"\n",
    "2. Click on properties\n",
    "3. Click on Home Button\n",
    "4. Click on Set path Variables.\n",
    "5. Paste the path of the C Folder where python is installed.\n",
    "6. Click on done.\n",
    "7. Click on Apply\n",
    "8. Close the dialogue box."
   ]
  },
  {
   "cell_type": "code",
   "execution_count": 27,
   "id": "cf1442a7-709a-4ac1-9797-c64f3d7d5dac",
   "metadata": {},
   "outputs": [],
   "source": [
    "#Q16. Is indentation required in python?"
   ]
  },
  {
   "cell_type": "code",
   "execution_count": null,
   "id": "8c86a6d7-4a3b-4e81-9c03-d7d8792a17c2",
   "metadata": {},
   "outputs": [],
   "source": [
    "Indentation in very layman terms is Spacing format.\n",
    "Python recognizes a block of code under a particular loop or class or function through indentation\n",
    "for example\n",
    "def function_name():\n",
    "    print(\"This is a function\")\n",
    "    return 0\n",
    "class class1:\n",
    "    print(\"This is a class\")\n",
    "    return"
   ]
  }
 ],
 "metadata": {
  "kernelspec": {
   "display_name": "Python 3 (ipykernel)",
   "language": "python",
   "name": "python3"
  },
  "language_info": {
   "codemirror_mode": {
    "name": "ipython",
    "version": 3
   },
   "file_extension": ".py",
   "mimetype": "text/x-python",
   "name": "python",
   "nbconvert_exporter": "python",
   "pygments_lexer": "ipython3",
   "version": "3.10.8"
  }
 },
 "nbformat": 4,
 "nbformat_minor": 5
}
