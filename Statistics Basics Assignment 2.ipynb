{
 "cells": [
  {
   "cell_type": "code",
   "execution_count": null,
   "id": "04500dc3-db6f-4df8-975d-1845e2a8a47e",
   "metadata": {},
   "outputs": [],
   "source": [
    "#Q1. What are the three measures of central tendency?\n",
    "Ans: The three measures of central tendency are Mean, Median and Mode."
   ]
  },
  {
   "cell_type": "code",
   "execution_count": null,
   "id": "adae9dfe-87a5-47bc-bfa5-0b5fa7b59d22",
   "metadata": {},
   "outputs": [],
   "source": [
    "# Q2. What is the difference between the mean, median, and mode? How are they used to measure the\n",
    "# central tendency of a dataset?\n",
    "Ans:\n",
    "    Mean :\n",
    "        Is the average of all the given records in the quantative feature.\n",
    "        It is used to impute Missing values when the given data does not contain outliers\n",
    "    Median:\n",
    "        Is the same as mean but is used to reduce the effect of outliers in the data.\n",
    "        Presence of outliers can significantly shift the mean value giving bias in the output. \n",
    "        Hence median is used in the case of Quantitative data when outliers are present.\n",
    "    Mode:\n",
    "        It is used in case of Qualitative / Categorical variable.\n",
    "        It returns the most frequent item in the given list.\n",
    "        It is used to impute the null values in case of categorical variables."
   ]
  },
  {
   "cell_type": "code",
   "execution_count": 15,
   "id": "bad41e27-7fda-4bc5-840b-f36ac3d1ec16",
   "metadata": {},
   "outputs": [],
   "source": [
    "# Q3. Measure the three measures of central tendency for the given height data:\n",
    "data=[178,177,176,177,178.2,178,175,179,180,175,178.9,176.2,177,172.5,178,176.5]"
   ]
  },
  {
   "cell_type": "code",
   "execution_count": 16,
   "id": "4404b70c-5b9e-4e91-8a16-2b9739adf2de",
   "metadata": {},
   "outputs": [
    {
     "data": {
      "text/plain": [
       "177.01875"
      ]
     },
     "execution_count": 16,
     "metadata": {},
     "output_type": "execute_result"
    }
   ],
   "source": [
    "## finding the mean()\n",
    "import numpy as np\n",
    "np.mean(data)"
   ]
  },
  {
   "cell_type": "code",
   "execution_count": 17,
   "id": "91f5a443-05a0-4156-81c4-1de25e405327",
   "metadata": {},
   "outputs": [
    {
     "data": {
      "text/plain": [
       "177.0"
      ]
     },
     "execution_count": 17,
     "metadata": {},
     "output_type": "execute_result"
    }
   ],
   "source": [
    "## finding the median\n",
    "np.median(data)"
   ]
  },
  {
   "cell_type": "code",
   "execution_count": 18,
   "id": "7348e1b4-be18-4b14-b044-90cef3148223",
   "metadata": {},
   "outputs": [
    {
     "data": {
      "text/html": [
       "<div>\n",
       "<style scoped>\n",
       "    .dataframe tbody tr th:only-of-type {\n",
       "        vertical-align: middle;\n",
       "    }\n",
       "\n",
       "    .dataframe tbody tr th {\n",
       "        vertical-align: top;\n",
       "    }\n",
       "\n",
       "    .dataframe thead th {\n",
       "        text-align: right;\n",
       "    }\n",
       "</style>\n",
       "<table border=\"1\" class=\"dataframe\">\n",
       "  <thead>\n",
       "    <tr style=\"text-align: right;\">\n",
       "      <th></th>\n",
       "      <th>A</th>\n",
       "    </tr>\n",
       "  </thead>\n",
       "  <tbody>\n",
       "    <tr>\n",
       "      <th>0</th>\n",
       "      <td>177.0</td>\n",
       "    </tr>\n",
       "    <tr>\n",
       "      <th>1</th>\n",
       "      <td>178.0</td>\n",
       "    </tr>\n",
       "  </tbody>\n",
       "</table>\n",
       "</div>"
      ],
      "text/plain": [
       "       A\n",
       "0  177.0\n",
       "1  178.0"
      ]
     },
     "execution_count": 18,
     "metadata": {},
     "output_type": "execute_result"
    }
   ],
   "source": [
    "## finding Mode\n",
    "import pandas as pd\n",
    "df=pd.DataFrame(data=data,columns=['A'])\n",
    "df.mode()"
   ]
  },
  {
   "cell_type": "code",
   "execution_count": 19,
   "id": "a7f23c82-94ea-4c94-8598-ac9a5dce11f7",
   "metadata": {},
   "outputs": [],
   "source": [
    "# Q4. Find the standard deviation for the given data:\n",
    "data=[178,177,176,177,178.2,178,175,179,180,175,178.9,176.2,177,172.5,178,176.5]"
   ]
  },
  {
   "cell_type": "code",
   "execution_count": 20,
   "id": "94a2927a-791f-4f6c-ac9d-8612f989e3b1",
   "metadata": {},
   "outputs": [
    {
     "data": {
      "text/plain": [
       "1.7885814036548633"
      ]
     },
     "execution_count": 20,
     "metadata": {},
     "output_type": "execute_result"
    }
   ],
   "source": [
    "np.std(data)"
   ]
  },
  {
   "cell_type": "code",
   "execution_count": null,
   "id": "c4a63fc9-8db3-4260-bd0a-59df970f67fd",
   "metadata": {},
   "outputs": [],
   "source": [
    "# Q5. How are measures of dispersion such as range, variance, and standard deviation used to describe\n",
    "# the spread of a dataset? Provide an example.\n",
    "Ans:\n",
    "Measure of Dispersion:\n",
    "    Range:\n",
    "        It gives the minimum and the maximum value of the given quantitative feature indicating the scope of the variable\n",
    "    Variance:\n",
    "        It gives the spread of the data around the mean where maximum concentration exists.\n",
    "    Standard Deviation:\n",
    "        It defines how near or far the given data point is from the mean. With the help of standard deviation we can \n",
    "        determine whether to accept or reject certain Null hypothesis and it is also used to detect outliers.\n",
    "\n",
    "The example is as follows:"
   ]
  },
  {
   "cell_type": "code",
   "execution_count": 11,
   "id": "646fc6ad-40cd-4d61-92e5-254917a938ab",
   "metadata": {},
   "outputs": [
    {
     "data": {
      "text/html": [
       "<div>\n",
       "<style scoped>\n",
       "    .dataframe tbody tr th:only-of-type {\n",
       "        vertical-align: middle;\n",
       "    }\n",
       "\n",
       "    .dataframe tbody tr th {\n",
       "        vertical-align: top;\n",
       "    }\n",
       "\n",
       "    .dataframe thead th {\n",
       "        text-align: right;\n",
       "    }\n",
       "</style>\n",
       "<table border=\"1\" class=\"dataframe\">\n",
       "  <thead>\n",
       "    <tr style=\"text-align: right;\">\n",
       "      <th></th>\n",
       "      <th>passengers</th>\n",
       "      <th>distance</th>\n",
       "      <th>fare</th>\n",
       "      <th>tip</th>\n",
       "      <th>tolls</th>\n",
       "      <th>total</th>\n",
       "    </tr>\n",
       "  </thead>\n",
       "  <tbody>\n",
       "    <tr>\n",
       "      <th>count</th>\n",
       "      <td>6433.000000</td>\n",
       "      <td>6433.000000</td>\n",
       "      <td>6433.000000</td>\n",
       "      <td>6433.00000</td>\n",
       "      <td>6433.000000</td>\n",
       "      <td>6433.000000</td>\n",
       "    </tr>\n",
       "    <tr>\n",
       "      <th>mean</th>\n",
       "      <td>1.539251</td>\n",
       "      <td>3.024617</td>\n",
       "      <td>13.091073</td>\n",
       "      <td>1.97922</td>\n",
       "      <td>0.325273</td>\n",
       "      <td>18.517794</td>\n",
       "    </tr>\n",
       "    <tr>\n",
       "      <th>std</th>\n",
       "      <td>1.203768</td>\n",
       "      <td>3.827867</td>\n",
       "      <td>11.551804</td>\n",
       "      <td>2.44856</td>\n",
       "      <td>1.415267</td>\n",
       "      <td>13.815570</td>\n",
       "    </tr>\n",
       "    <tr>\n",
       "      <th>min</th>\n",
       "      <td>0.000000</td>\n",
       "      <td>0.000000</td>\n",
       "      <td>1.000000</td>\n",
       "      <td>0.00000</td>\n",
       "      <td>0.000000</td>\n",
       "      <td>1.300000</td>\n",
       "    </tr>\n",
       "    <tr>\n",
       "      <th>25%</th>\n",
       "      <td>1.000000</td>\n",
       "      <td>0.980000</td>\n",
       "      <td>6.500000</td>\n",
       "      <td>0.00000</td>\n",
       "      <td>0.000000</td>\n",
       "      <td>10.800000</td>\n",
       "    </tr>\n",
       "    <tr>\n",
       "      <th>50%</th>\n",
       "      <td>1.000000</td>\n",
       "      <td>1.640000</td>\n",
       "      <td>9.500000</td>\n",
       "      <td>1.70000</td>\n",
       "      <td>0.000000</td>\n",
       "      <td>14.160000</td>\n",
       "    </tr>\n",
       "    <tr>\n",
       "      <th>75%</th>\n",
       "      <td>2.000000</td>\n",
       "      <td>3.210000</td>\n",
       "      <td>15.000000</td>\n",
       "      <td>2.80000</td>\n",
       "      <td>0.000000</td>\n",
       "      <td>20.300000</td>\n",
       "    </tr>\n",
       "    <tr>\n",
       "      <th>max</th>\n",
       "      <td>6.000000</td>\n",
       "      <td>36.700000</td>\n",
       "      <td>150.000000</td>\n",
       "      <td>33.20000</td>\n",
       "      <td>24.020000</td>\n",
       "      <td>174.820000</td>\n",
       "    </tr>\n",
       "  </tbody>\n",
       "</table>\n",
       "</div>"
      ],
      "text/plain": [
       "        passengers     distance         fare         tip        tolls  \\\n",
       "count  6433.000000  6433.000000  6433.000000  6433.00000  6433.000000   \n",
       "mean      1.539251     3.024617    13.091073     1.97922     0.325273   \n",
       "std       1.203768     3.827867    11.551804     2.44856     1.415267   \n",
       "min       0.000000     0.000000     1.000000     0.00000     0.000000   \n",
       "25%       1.000000     0.980000     6.500000     0.00000     0.000000   \n",
       "50%       1.000000     1.640000     9.500000     1.70000     0.000000   \n",
       "75%       2.000000     3.210000    15.000000     2.80000     0.000000   \n",
       "max       6.000000    36.700000   150.000000    33.20000    24.020000   \n",
       "\n",
       "             total  \n",
       "count  6433.000000  \n",
       "mean     18.517794  \n",
       "std      13.815570  \n",
       "min       1.300000  \n",
       "25%      10.800000  \n",
       "50%      14.160000  \n",
       "75%      20.300000  \n",
       "max     174.820000  "
      ]
     },
     "execution_count": 11,
     "metadata": {},
     "output_type": "execute_result"
    }
   ],
   "source": [
    "import seaborn as sns\n",
    "df= sns.load_dataset('taxis')\n",
    "df.head()\n",
    "df.describe()"
   ]
  },
  {
   "cell_type": "code",
   "execution_count": 12,
   "id": "7e36cce5-e35a-4bbe-b6b1-d93d697f10d9",
   "metadata": {},
   "outputs": [
    {
     "name": "stderr",
     "output_type": "stream",
     "text": [
      "/tmp/ipykernel_834/1568254755.py:1: FutureWarning: The default value of numeric_only in DataFrame.var is deprecated. In a future version, it will default to False. In addition, specifying 'numeric_only=None' is deprecated. Select only valid columns or specify the value of numeric_only to silence this warning.\n",
      "  df.var()\n"
     ]
    },
    {
     "data": {
      "text/plain": [
       "passengers      1.449058\n",
       "distance       14.652566\n",
       "fare          133.444182\n",
       "tip             5.995444\n",
       "tolls           2.002982\n",
       "total         190.869976\n",
       "dtype: float64"
      ]
     },
     "execution_count": 12,
     "metadata": {},
     "output_type": "execute_result"
    }
   ],
   "source": [
    "df.var()"
   ]
  },
  {
   "cell_type": "code",
   "execution_count": null,
   "id": "8ca275eb-4f39-432f-a2e5-0989d5fda554",
   "metadata": {},
   "outputs": [],
   "source": [
    "# Q6. What is a Venn diagram?\n",
    "A venn diagram is diagramatic representation of the elements of a set of event. the event can be \n",
    "dependent or independent. It is used to simplify and recognize the relationship between two or more events."
   ]
  },
  {
   "cell_type": "code",
   "execution_count": null,
   "id": "b061aeb3-1889-408f-9f20-b58c1736f6f5",
   "metadata": {},
   "outputs": [],
   "source": [
    "# Q7. For the two given sets A = (2,3,4,5,6,7) & B = (0,2,6,8,10). Find:\n",
    "# (i) A B\n",
    "# (ii) A ⋃ B\n",
    "Ans:\n",
    "1] A-B :\n",
    "    It returns all the elements present in A excluding all the elements present in B\n",
    "    A-B =(3,4,5,7)\n",
    "2] A U B :\n",
    "    It returns all the elements present in A and B. Does not repeat the elements \n",
    "    A U B = (2,3,4,5,6,7,0,8,10)"
   ]
  },
  {
   "cell_type": "code",
   "execution_count": null,
   "id": "6308fcd5-c8db-4751-987d-1ce7fd20354c",
   "metadata": {},
   "outputs": [],
   "source": [
    "#Q8. What do you understand about skewness in data?\n",
    "Ans:\n",
    "    Skewness of data can happen because of several reasons such as biasness, perception difference, \n",
    "    personal opinion, incorrect questioning, wrong methods of collection.\n",
    "    Skewed data is a biased data having more concentration either towards the right or left side of the mean.\n",
    "    The data can be right skewed or left skewed.\n",
    "    It can be identified using the histogram or a box plot.\n",
    "    It may be because of the presence of Outliers."
   ]
  },
  {
   "cell_type": "code",
   "execution_count": null,
   "id": "c0e10381-3054-423b-b0db-a0e85fe42bdb",
   "metadata": {},
   "outputs": [],
   "source": [
    "#Q9. If a data is right skewed then what will be the position of median with respect to mean?\n",
    "Ans:\n",
    "If the data is right skewed then the mean is greater than the median i.e(mean > median)"
   ]
  },
  {
   "cell_type": "code",
   "execution_count": null,
   "id": "9682f2f8-6c2e-4d91-9800-4749b4b449ec",
   "metadata": {},
   "outputs": [],
   "source": [
    "# Q10. Explain the difference between covariance and correlation. How are these measures used in\n",
    "# statistical analysis?\n",
    "The methods of correlation and covariance are both used to determine the relation of a feature with respect to another.\n",
    "While the covariance is used to find the direction of relation between the features where positive number indicates\n",
    "positive relation and negative indicates inverse relation.\n",
    "But Correlation is used to determine the strongness of bond i.e strength between the features. it ranges from -1 to +1 \n",
    "where -1 refers to very strong inverse relation. and +1 referse to positive relation between the features.\n",
    "Heatmap is used to identify the correlation.\n",
    "Spearman Rank and Pearson Correlation Coefficient are used to calculate the correlation."
   ]
  },
  {
   "cell_type": "code",
   "execution_count": null,
   "id": "1d168160-6c5e-43e0-b2f3-f61459e5d3f2",
   "metadata": {},
   "outputs": [],
   "source": [
    "# Q11. What is the formula for calculating the sample mean? Provide an example calculation for a\n",
    "# dataset.\n",
    "The formula for calculating sample mean is as follows:\n",
    "   Sample Mean (X_Bar)= Sum of Data Points(X_(i)) / (n-1)\n",
    "where n is the sample size "
   ]
  },
  {
   "cell_type": "code",
   "execution_count": 13,
   "id": "1d3f56e5-e4a8-4a2d-92fe-d700172835b2",
   "metadata": {},
   "outputs": [],
   "source": [
    "data1 = [11,25,35,12,15,3,6,25,14,2,5,2,63]"
   ]
  },
  {
   "cell_type": "code",
   "execution_count": 14,
   "id": "6c83d18d-1cfb-4307-a465-d70257fe7d82",
   "metadata": {},
   "outputs": [
    {
     "data": {
      "text/plain": [
       "13"
      ]
     },
     "execution_count": 14,
     "metadata": {},
     "output_type": "execute_result"
    }
   ],
   "source": [
    "n = len(data1)\n",
    "n"
   ]
  },
  {
   "cell_type": "code",
   "execution_count": 15,
   "id": "d08cb57e-3ba1-43af-8229-55839ed558b4",
   "metadata": {},
   "outputs": [
    {
     "data": {
      "text/plain": [
       "18.166666666666668"
      ]
     },
     "execution_count": 15,
     "metadata": {},
     "output_type": "execute_result"
    }
   ],
   "source": [
    "sum =0\n",
    "for i in data1:\n",
    "    sum = sum + i\n",
    "sample_mean = sum/(n-1)\n",
    "sample_mean"
   ]
  },
  {
   "cell_type": "code",
   "execution_count": null,
   "id": "4d4603e2-2a46-4406-8369-e82951d1b329",
   "metadata": {},
   "outputs": [],
   "source": [
    "#Q12. For a normal distribution data what is the relationship between its measure of central tendency?\n",
    "For a normal or gaussian distribution of  data the \n",
    "mean = median=mode"
   ]
  },
  {
   "cell_type": "code",
   "execution_count": null,
   "id": "64881fe7-0b94-4c83-b24c-f9746442ced0",
   "metadata": {},
   "outputs": [],
   "source": [
    "#Q13. How is covariance different from correlation?\n",
    "The methods of correlation and covariance are both used to determine the relation of a feature with respect to another.\n",
    "While the covariance is used to find the direction of relation between the features where positive number indicates\n",
    "positive relation and negative indicates inverse relation.\n",
    "But Correlation is used to determine the strongness of bond i.e strength between the features. it ranges from -1 to +1 \n",
    "where -1 refers to very strong inverse relation. and +1 referse to positive relation between the features.\n",
    "Heatmap is used to identify the correlation.\n",
    "Spearman Rank and Pearson Correlation Coefficient are used to calculate the correlation."
   ]
  },
  {
   "cell_type": "code",
   "execution_count": 51,
   "id": "afcbaa41-2d8a-49cc-a9b7-69e75cf211f1",
   "metadata": {},
   "outputs": [],
   "source": [
    "#Q14. How do outliers affect measures of central tendency and dispersion? Provide an example.\n",
    "data2=[1,2,3,4,5,6,7,8,9,2,3,2,1,2,1,1,1,2,8,6,10,11,50]"
   ]
  },
  {
   "cell_type": "code",
   "execution_count": 52,
   "id": "ee1d9b2b-8bca-461c-b073-c3064abe4e38",
   "metadata": {},
   "outputs": [
    {
     "data": {
      "text/plain": [
       "6.304347826086956"
      ]
     },
     "execution_count": 52,
     "metadata": {},
     "output_type": "execute_result"
    }
   ],
   "source": [
    "import numpy as np\n",
    "import pandas as pd\n",
    "np.mean(data2)"
   ]
  },
  {
   "cell_type": "code",
   "execution_count": 53,
   "id": "73e4ff6b-93f5-45a2-b540-0b094da86bfc",
   "metadata": {},
   "outputs": [
    {
     "data": {
      "text/plain": [
       "3.0"
      ]
     },
     "execution_count": 53,
     "metadata": {},
     "output_type": "execute_result"
    }
   ],
   "source": [
    "np.median(data2)"
   ]
  },
  {
   "cell_type": "code",
   "execution_count": 54,
   "id": "b2f954f6-b3e7-46f9-8ad6-f393ea892c96",
   "metadata": {},
   "outputs": [
    {
     "data": {
      "text/plain": [
       "9.826471712359409"
      ]
     },
     "execution_count": 54,
     "metadata": {},
     "output_type": "execute_result"
    }
   ],
   "source": [
    "np.std(data2)"
   ]
  },
  {
   "cell_type": "code",
   "execution_count": 55,
   "id": "09f6ff79-8582-4039-a417-c9e8225f2c74",
   "metadata": {},
   "outputs": [
    {
     "data": {
      "text/plain": [
       "96.55954631379963"
      ]
     },
     "execution_count": 55,
     "metadata": {},
     "output_type": "execute_result"
    }
   ],
   "source": [
    "np.var(data2)"
   ]
  },
  {
   "cell_type": "code",
   "execution_count": 56,
   "id": "7e122e7e-1235-4b3e-9186-fa438f0c142f",
   "metadata": {},
   "outputs": [
    {
     "data": {
      "text/html": [
       "<div>\n",
       "<style scoped>\n",
       "    .dataframe tbody tr th:only-of-type {\n",
       "        vertical-align: middle;\n",
       "    }\n",
       "\n",
       "    .dataframe tbody tr th {\n",
       "        vertical-align: top;\n",
       "    }\n",
       "\n",
       "    .dataframe thead th {\n",
       "        text-align: right;\n",
       "    }\n",
       "</style>\n",
       "<table border=\"1\" class=\"dataframe\">\n",
       "  <thead>\n",
       "    <tr style=\"text-align: right;\">\n",
       "      <th></th>\n",
       "      <th>A</th>\n",
       "    </tr>\n",
       "  </thead>\n",
       "  <tbody>\n",
       "    <tr>\n",
       "      <th>0</th>\n",
       "      <td>1</td>\n",
       "    </tr>\n",
       "    <tr>\n",
       "      <th>1</th>\n",
       "      <td>2</td>\n",
       "    </tr>\n",
       "  </tbody>\n",
       "</table>\n",
       "</div>"
      ],
      "text/plain": [
       "   A\n",
       "0  1\n",
       "1  2"
      ]
     },
     "execution_count": 56,
     "metadata": {},
     "output_type": "execute_result"
    }
   ],
   "source": [
    "df2=pd.DataFrame(data=data2,columns=['A'])\n",
    "df2.mode()"
   ]
  },
  {
   "cell_type": "code",
   "execution_count": 57,
   "id": "37bca0a3-ead7-400f-8b37-4a854d5c70f5",
   "metadata": {},
   "outputs": [],
   "source": [
    "import matplotlib as plt"
   ]
  },
  {
   "cell_type": "code",
   "execution_count": 58,
   "id": "22bf9613-a0d9-4c7c-9fff-17076b32c698",
   "metadata": {},
   "outputs": [],
   "source": [
    "import seaborn as sns"
   ]
  },
  {
   "cell_type": "code",
   "execution_count": 59,
   "id": "33a812ee-052a-429d-9c4f-4519dc77e322",
   "metadata": {},
   "outputs": [
    {
     "data": {
      "text/plain": [
       "<AxesSubplot: >"
      ]
     },
     "execution_count": 59,
     "metadata": {},
     "output_type": "execute_result"
    },
    {
     "data": {
      "image/png": "[encoded data removed]",
      "text/plain": [
       "<Figure size 640x480 with 1 Axes>"
      ]
     },
     "metadata": {},
     "output_type": "display_data"
    }
   ],
   "source": [
    "sns.boxplot(data=df2)"
   ]
  },
  {
   "cell_type": "code",
   "execution_count": 67,
   "id": "38b93f78-5b9a-424c-bfa1-60a7fa7de23f",
   "metadata": {},
   "outputs": [
    {
     "data": {
      "text/plain": [
       "<AxesSubplot: >"
      ]
     },
     "execution_count": 67,
     "metadata": {},
     "output_type": "execute_result"
    },
    {
     "data": {
      "image/png": "[encoded data removed]",
      "text/plain": [
       "<Figure size 640x480 with 1 Axes>"
      ]
     },
     "metadata": {},
     "output_type": "display_data"
    }
   ],
   "source": [
    "sns.scatterplot(data=df2)"
   ]
  },
  {
   "cell_type": "code",
   "execution_count": null,
   "id": "34c11906-9437-4e28-a91f-ff37640dc7d9",
   "metadata": {},
   "outputs": [],
   "source": []
  }
 ],
 "metadata": {
  "kernelspec": {
   "display_name": "Python 3 (ipykernel)",
   "language": "python",
   "name": "python3"
  },
  "language_info": {
   "codemirror_mode": {
    "name": "ipython",
    "version": 3
   },
   "file_extension": ".py",
   "mimetype": "text/x-python",
   "name": "python",
   "nbconvert_exporter": "python",
   "pygments_lexer": "ipython3",
   "version": "3.10.8"
  }
 },
 "nbformat": 4,
 "nbformat_minor": 5
}
