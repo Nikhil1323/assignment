{
 "cells": [
  {
   "cell_type": "code",
   "execution_count": 1,
   "id": "2de7486b-6b53-4487-b4c2-76aabea27430",
   "metadata": {},
   "outputs": [],
   "source": [
    "#Q1. Explain Class and Object with respect to Object-Oriented Programming. Give a suitable example."
   ]
  },
  {
   "cell_type": "markdown",
   "id": "c3ed0b8b-c7e0-4750-a7d1-f40bab738610",
   "metadata": {},
   "source": [
    "Oops stands for Object oriented programming system in which Objects r created and assigned to a class.\n",
    "#Class\n",
    "1.Class is a blueprint or skeleton which gives general characteristics but not specifics.\n",
    "2.It classifies the real world entities.\n",
    "3.Class is like a broad framework but does not point towards a particular entity.\n",
    "4. For example: \n",
    "    Car is a class having general characteristics like 4 wheels, steering, seats, main frame,etc\n",
    "    But this class CAR does not tell about the details like colour, make, brand, engine capacity, seating capacity,etc.\n",
    "#Object\n",
    "1. Object is a real world entity.\n",
    "2. It is also called as an instance of a class.\n",
    "3. Objects are used to invoke or call a particular class.\n",
    "4. For example:\n",
    "    In the Above example, Car is a class but Red color Toyoto etio is a object which tells us particular information of object."
   ]
  },
  {
   "cell_type": "code",
   "execution_count": 5,
   "id": "bffbf32a-e05f-4e62-8d72-bb6b5d14e81f",
   "metadata": {},
   "outputs": [],
   "source": [
    "class test(): # here we create a class that has a function message\n",
    "    def message(self): # here the function is binded to the class using the word self\n",
    "        print(\"This is a test message it will be called through an object\") #this is the message to be printed"
   ]
  },
  {
   "cell_type": "code",
   "execution_count": 6,
   "id": "de2018eb-99bb-4f5f-8666-43f1d9570f59",
   "metadata": {},
   "outputs": [],
   "source": [
    "nikhil = test() # here nikhil is the variable or object or instance of the class test which we created above."
   ]
  },
  {
   "cell_type": "code",
   "execution_count": 7,
   "id": "7e23c370-a5cf-403a-9e7c-1dd68f51658d",
   "metadata": {},
   "outputs": [
    {
     "name": "stdout",
     "output_type": "stream",
     "text": [
      "This is a test message it will be called through an object\n"
     ]
    }
   ],
   "source": [
    "nikhil.message() # using the object we call the function insided the class test"
   ]
  },
  {
   "cell_type": "code",
   "execution_count": 8,
   "id": "da48a4a5-578d-46a3-8b44-18b98353a7cf",
   "metadata": {},
   "outputs": [],
   "source": [
    "#Q2. Name the four pillars of OOPs."
   ]
  },
  {
   "cell_type": "markdown",
   "id": "d767ebf8-1fcb-432c-bdb8-6dae7d50537b",
   "metadata": {},
   "source": [
    "The Four pillars of Object oriented Programming system are as follows\n",
    "1. Inheritance\n",
    "2. Abstraction\n",
    "3. Polymorphism\n",
    "4. Encapsulation\n",
    "\n",
    "A] Inheritance: \n",
    "    It is the pillar in which the property of parent class is acquired or inheritted by the child class. It is of two types \n",
    "    that is multiple inheritance and multi level inheritance. In multiple inheritance the properties of more than one parent \n",
    "    class is acquired by the child class. Whereas in the multi level inheritance the properties of the parent classes in higher\n",
    "    hierarchy are acquired by the child class.\n",
    "B] Abstraction:\n",
    "    It is the property through which the user is not exposed to the complexity of the code or the class in particular.\n",
    "    It hides the actual inbuilt coded part.\n",
    "    For example to add two numbers we can simply write 1 + 2 and we can get answer as 3.\n",
    "    But the system processes the \"+\" as 1.__add__(2) to give answer as 3\n",
    "C] Polymorphism:\n",
    "    It is a property in which the class or function behaves diffferently and gives different output when the type of input \n",
    "    changes.\n",
    "    For example:\n",
    "        def add(a,b):\n",
    "            return a+b\n",
    "    In the above example if we pass integer parameters to the function we will get the sum of the integers.\n",
    "    But if we pass two strings as a parameter to the function, we get the output as cocatenated string.\n",
    "D] Encapsulation:\n",
    "    It is a wrapper that hides and protects the code so that it cannot be interfered or tampered. \n",
    "    In this method the user may not be aware of the actual process and variables used but can access it through different\n",
    "    function created for the same purpose.\n",
    "    For example: Bank account details: The user need not know and should not be able to modify the account credentials \n",
    "    and other parameters such as bank balance or file number or customer id. Hence they are encapsulated, although the account\n",
    "    holders are still given access to the account balance just for seeing and not for modification."
   ]
  },
  {
   "cell_type": "code",
   "execution_count": 1,
   "id": "bd2d4c8a-8dc4-412a-9393-abb20757a753",
   "metadata": {},
   "outputs": [],
   "source": [
    "#Q3. Explain why the __init__() function is used. Give a suitable example."
   ]
  },
  {
   "cell_type": "code",
   "execution_count": null,
   "id": "102af6c5-ce07-4a3b-8baa-6dffafc6f366",
   "metadata": {},
   "outputs": [],
   "source": [
    "The __init__() function is a Magical or Dunder function.\n",
    "When an object is to be created of a particular class the __init__() function is called everytime.\n",
    "It is called automatically to initialize the attribute of the class objects.\n",
    "We do not call this dunder function it is called by the compiler."
   ]
  },
  {
   "cell_type": "code",
   "execution_count": 11,
   "id": "bb157415-1771-4f8c-b639-6aa040ec01ff",
   "metadata": {},
   "outputs": [],
   "source": [
    "class nikhil:\n",
    "    def __init__(self, number):# here the __init__ function is protected from the user.\n",
    "        self.number = number\n",
    "    def give_number_back(self):\n",
    "        return self.number        "
   ]
  },
  {
   "cell_type": "code",
   "execution_count": 12,
   "id": "97d4e940-7e45-4db9-8fd8-b5a71376926d",
   "metadata": {},
   "outputs": [],
   "source": [
    "n = nikhil(123456789) #here an object is created using the class and parameter is passed."
   ]
  },
  {
   "cell_type": "code",
   "execution_count": 13,
   "id": "a2bf996a-d3e4-4fc0-b0fb-cd53a0f320f5",
   "metadata": {},
   "outputs": [
    {
     "data": {
      "text/plain": [
       "123456789"
      ]
     },
     "execution_count": 13,
     "metadata": {},
     "output_type": "execute_result"
    }
   ],
   "source": [
    "n.give_number_back() # without the knowledge of internal working user can only access the class which is not protected."
   ]
  },
  {
   "cell_type": "code",
   "execution_count": 14,
   "id": "f4a0651e-9d26-489d-8f7d-9d2b35d57db5",
   "metadata": {},
   "outputs": [],
   "source": [
    "#Q4. Why self is used in OOPs?"
   ]
  },
  {
   "cell_type": "code",
   "execution_count": null,
   "id": "18c2e6f5-8991-4883-9285-3f95291eed7f",
   "metadata": {},
   "outputs": [],
   "source": [
    "In object oriented programming self is used to bind the function to the class.\n",
    "It is just a pointer to the class and is used to associate with the class.\n",
    "It is not a keyword and any other word can be used in place of the word self to act as a binder to the class."
   ]
  },
  {
   "cell_type": "code",
   "execution_count": 15,
   "id": "bc0bcef1-d684-4250-a8a8-a20a418e20c9",
   "metadata": {},
   "outputs": [],
   "source": [
    "#Q5. What is inheritance? Give an example for each type of inheritance."
   ]
  },
  {
   "cell_type": "code",
   "execution_count": null,
   "id": "9284534e-642f-45d4-aa88-35725c3c3e81",
   "metadata": {},
   "outputs": [],
   "source": [
    "Inheritance is the propety in which the characteristics of the parent class or classes are acquired by the \n",
    "child class or classes.\n",
    "It can take place in mainly 2 types that is the \n",
    "1. Multi level Inheritance\n",
    "2. Multiple Inheritance.\n",
    "\n",
    "1. Multi Level Inheritance:\n",
    "    In multi level inheritance the property of transitivity is followed. The third generation of function can acquire \n",
    "    the property or general characteristics of the 1st and 2nd generation parent class.\n",
    "2. Multiple Inheritance:\n",
    "    In this the child class acquires the properties of multiple parent class which may either be of same generation/level or\n",
    "    at different level of hierarchies."
   ]
  }
 ],
 "metadata": {
  "kernelspec": {
   "display_name": "Python 3 (ipykernel)",
   "language": "python",
   "name": "python3"
  },
  "language_info": {
   "codemirror_mode": {
    "name": "ipython",
    "version": 3
   },
   "file_extension": ".py",
   "mimetype": "text/x-python",
   "name": "python",
   "nbconvert_exporter": "python",
   "pygments_lexer": "ipython3",
   "version": "3.10.8"
  }
 },
 "nbformat": 4,
 "nbformat_minor": 5
}
