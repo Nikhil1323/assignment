{
 "cells": [
  {
   "cell_type": "code",
   "execution_count": 23,
   "id": "74aaf5c2-4c7d-4da3-bbfc-daed7639e53c",
   "metadata": {},
   "outputs": [
    {
     "data": {
      "text/plain": [
       "'Q1. Which keyword is used to create a function? Create a function to return a list of odd numbers in the\\nrange of 1 to 25.'"
      ]
     },
     "execution_count": 23,
     "metadata": {},
     "output_type": "execute_result"
    }
   ],
   "source": [
    "\"\"\"Q1. Which keyword is used to create a function? Create a function to return a list of odd numbers in the\n",
    "range of 1 to 25.\"\"\""
   ]
  },
  {
   "cell_type": "markdown",
   "id": "f842be01-c436-4069-ae08-4b323dedfa92",
   "metadata": {},
   "source": [
    "Function is a block of code which can be reused multiple times to reduced the complexity of code and save execution time and at the same time to reduce the memory requirement."
   ]
  },
  {
   "cell_type": "markdown",
   "id": "d118408b-418d-4a37-a806-f92ba6e3009a",
   "metadata": {},
   "source": [
    "def is the keyword used to create a function."
   ]
  },
  {
   "cell_type": "code",
   "execution_count": 20,
   "id": "4c338b15-463a-488e-9332-faa21f390af1",
   "metadata": {},
   "outputs": [],
   "source": [
    "# Function to return a list of odd numbers in the range of 1 to 25\n",
    "l1 = []         \n",
    "def odd_numbers(l):\n",
    "    for i in l:\n",
    "        if i % 2 != 0 :\n",
    "            l1.append(i)\n",
    "\n",
    "l = list(range(1,26))\n",
    "odd_numbers(l)"
   ]
  },
  {
   "cell_type": "code",
   "execution_count": 21,
   "id": "574e7a46-84e0-4a75-99a9-9cc6ed4ae167",
   "metadata": {},
   "outputs": [
    {
     "data": {
      "text/plain": [
       "[1, 3, 5, 7, 9, 11, 13, 15, 17, 19, 21, 23, 25]"
      ]
     },
     "execution_count": 21,
     "metadata": {},
     "output_type": "execute_result"
    }
   ],
   "source": [
    "l1"
   ]
  },
  {
   "cell_type": "code",
   "execution_count": 24,
   "id": "1de8f72b-b5bb-41e8-bbff-f279939bac6a",
   "metadata": {},
   "outputs": [
    {
     "data": {
      "text/plain": [
       "'Q2. Why *args and **kwargs is used in some functions? Create a function each for *args and **kwargs\\nto demonstrate their use.'"
      ]
     },
     "execution_count": 24,
     "metadata": {},
     "output_type": "execute_result"
    }
   ],
   "source": [
    "\"\"\"Q2. Why *args and **kwargs is used in some functions? Create a function each for *args and **kwargs\n",
    "to demonstrate their use.\"\"\""
   ]
  },
  {
   "cell_type": "code",
   "execution_count": null,
   "id": "a43d00c2-14f4-4d3f-bfc2-e708c62a8be8",
   "metadata": {},
   "outputs": [],
   "source": [
    "1. The *args is used to make the input dynamic so that the user may not specify every time the number of parameters to be passed \n",
    "   or the type of parameter to be passed.\n",
    "2. The **kwargs is used to get the return in the form of a dictionary that is the key and value pair."
   ]
  },
  {
   "cell_type": "code",
   "execution_count": 26,
   "id": "ec56fb05-2d39-404d-ab9b-b728f89a28e1",
   "metadata": {},
   "outputs": [
    {
     "data": {
      "text/plain": [
       "(1, 2, 3, 4, 'nikhil', 'yash', 35.36, (3+5j))"
      ]
     },
     "execution_count": 26,
     "metadata": {},
     "output_type": "execute_result"
    }
   ],
   "source": [
    "#Function using *args\n",
    "def test(*args):\n",
    "    return args\n",
    "test(1,2,3,4,\"nikhil\",\"yash\",35.36,3+5j)"
   ]
  },
  {
   "cell_type": "code",
   "execution_count": 27,
   "id": "06da0845-2158-4c89-8aad-0a318f6cee4e",
   "metadata": {},
   "outputs": [
    {
     "data": {
      "text/plain": [
       "{'n': [1, 2, 3, 4, 5], 'b': 'yash', 'c': (1, 5, 6, 8, 4)}"
      ]
     },
     "execution_count": 27,
     "metadata": {},
     "output_type": "execute_result"
    }
   ],
   "source": [
    "# function using **kwargs\n",
    "def test1(**kwargs):\n",
    "    return kwargs\n",
    "test1( n = [1,2,3,4,5], b = \"yash\" , c = (1,5,6,8,4) )"
   ]
  },
  {
   "cell_type": "code",
   "execution_count": 28,
   "id": "02d01004-9faa-4755-b94d-ee22d91f77f2",
   "metadata": {},
   "outputs": [],
   "source": [
    "#  Q3. What is an iterator in python? Name the method used to initialise the iterator object and the method\n",
    "#      used for iteration. Use these methods to print the first five elements of the given list [2, 4, 6, 8, 10, 12, 14,\n",
    "#      16, 18, 20]."
   ]
  },
  {
   "cell_type": "code",
   "execution_count": null,
   "id": "62107a60-339e-4a5f-b119-6abd1c9ac857",
   "metadata": {},
   "outputs": [],
   "source": [
    "In python an iterator is a countable object which is indexed and has a unique reference. \n",
    "The iter() is used to initialise the iterator object\n",
    "For iteration next() method is used.\n",
    "The most common example of an iterator is the for loop giving the individual characters of a string. \n",
    "in this case the sting is not iterator but it is iterable \n",
    "It is made iterator by passing it to the iter function. Then the for loop calculates the length of the string\n",
    "and performs the next() that many times as the length of the string to give the final output."
   ]
  },
  {
   "cell_type": "code",
   "execution_count": 45,
   "id": "f31a5deb-5131-4172-8554-c0ee43cedf23",
   "metadata": {},
   "outputs": [],
   "source": [
    "l = [2,4,6,8,10,12,14,16,18,20]"
   ]
  },
  {
   "cell_type": "code",
   "execution_count": 79,
   "id": "28cc3b4d-6075-4848-96e2-31d8c39844bd",
   "metadata": {},
   "outputs": [
    {
     "name": "stdout",
     "output_type": "stream",
     "text": [
      "2\n",
      "4\n",
      "6\n",
      "8\n",
      "10\n"
     ]
    }
   ],
   "source": [
    "new_list = iter(l)\n",
    "print(next(new_list))\n",
    "print(next(new_list))\n",
    "print(next(new_list))\n",
    "print(next(new_list))\n",
    "print(next(new_list))"
   ]
  },
  {
   "cell_type": "code",
   "execution_count": 80,
   "id": "162252e6-ad06-48cc-b145-8dd8ab702882",
   "metadata": {},
   "outputs": [],
   "source": [
    "#  Q4. What is a generator function in python? Why yield keyword is used? Give an example of a generator\n",
    "#       function."
   ]
  },
  {
   "cell_type": "code",
   "execution_count": null,
   "id": "efbf1b3d-2b2b-4a0c-a1c8-6941117b5d48",
   "metadata": {},
   "outputs": [],
   "source": [
    "1.A generator function is used to generate the entity one by one and as per the requirement of the user.\n",
    "2.It unlike the conventional data types that store large amount of data beforhand and consume \n",
    "  lot of system memory and run time.\n",
    "3.Yield keyword is used instead of return here because the function generates value one by one \n",
    "  and not the final output as one single value to be returned to the function. Example: range()"
   ]
  },
  {
   "cell_type": "code",
   "execution_count": 83,
   "id": "26533dd2-84a8-475e-beea-09439802735a",
   "metadata": {},
   "outputs": [
    {
     "name": "stdout",
     "output_type": "stream",
     "text": [
      "0\n",
      "1\n",
      "2\n",
      "3\n",
      "4\n",
      "5\n",
      "6\n",
      "7\n",
      "8\n",
      "9\n"
     ]
    }
   ],
   "source": [
    "# Generator function to get first 10 whole numbers.\n",
    "def count(n):\n",
    "    count = 0\n",
    "    while count < n:\n",
    "        yield count\n",
    "        count  = count + 1\n",
    "n = count(10)\n",
    "for i in n:\n",
    "    print(i)"
   ]
  },
  {
   "cell_type": "code",
   "execution_count": 84,
   "id": "92a0f396-c3b6-4205-af5c-e485803e85c3",
   "metadata": {},
   "outputs": [],
   "source": [
    "# Q5. Create a generator function for prime numbers less than 1000. Use the next() method to print the\n",
    "#      first 20 prime numbers."
   ]
  },
  {
   "cell_type": "code",
   "execution_count": 13,
   "id": "2ce9893d-b848-4bec-afd3-656694e127db",
   "metadata": {},
   "outputs": [],
   "source": [
    "# Program to implement generator function for prime numbers less than 1000\n",
    "l1 = []\n",
    "def prime_num_gen() :\n",
    "    for i in range(3,1001) :\n",
    "        a = False\n",
    "        for n in range(2,i):\n",
    "            if i % n ==0:\n",
    "                a = True\n",
    "        if a == 0:\n",
    "            yield i"
   ]
  },
  {
   "cell_type": "code",
   "execution_count": 16,
   "id": "cb4e943a-d73c-472c-a59a-c75533537d2a",
   "metadata": {},
   "outputs": [],
   "source": [
    "n =list(prime_num_gen())"
   ]
  },
  {
   "cell_type": "code",
   "execution_count": 17,
   "id": "2144385b-83e9-4773-a98e-6c34efec5a39",
   "metadata": {},
   "outputs": [
    {
     "data": {
      "text/plain": [
       "[3,\n",
       " 5,\n",
       " 7,\n",
       " 11,\n",
       " 13,\n",
       " 17,\n",
       " 19,\n",
       " 23,\n",
       " 29,\n",
       " 31,\n",
       " 37,\n",
       " 41,\n",
       " 43,\n",
       " 47,\n",
       " 53,\n",
       " 59,\n",
       " 61,\n",
       " 67,\n",
       " 71,\n",
       " 73,\n",
       " 79,\n",
       " 83,\n",
       " 89,\n",
       " 97,\n",
       " 101,\n",
       " 103,\n",
       " 107,\n",
       " 109,\n",
       " 113,\n",
       " 127,\n",
       " 131,\n",
       " 137,\n",
       " 139,\n",
       " 149,\n",
       " 151,\n",
       " 157,\n",
       " 163,\n",
       " 167,\n",
       " 173,\n",
       " 179,\n",
       " 181,\n",
       " 191,\n",
       " 193,\n",
       " 197,\n",
       " 199,\n",
       " 211,\n",
       " 223,\n",
       " 227,\n",
       " 229,\n",
       " 233,\n",
       " 239,\n",
       " 241,\n",
       " 251,\n",
       " 257,\n",
       " 263,\n",
       " 269,\n",
       " 271,\n",
       " 277,\n",
       " 281,\n",
       " 283,\n",
       " 293,\n",
       " 307,\n",
       " 311,\n",
       " 313,\n",
       " 317,\n",
       " 331,\n",
       " 337,\n",
       " 347,\n",
       " 349,\n",
       " 353,\n",
       " 359,\n",
       " 367,\n",
       " 373,\n",
       " 379,\n",
       " 383,\n",
       " 389,\n",
       " 397,\n",
       " 401,\n",
       " 409,\n",
       " 419,\n",
       " 421,\n",
       " 431,\n",
       " 433,\n",
       " 439,\n",
       " 443,\n",
       " 449,\n",
       " 457,\n",
       " 461,\n",
       " 463,\n",
       " 467,\n",
       " 479,\n",
       " 487,\n",
       " 491,\n",
       " 499,\n",
       " 503,\n",
       " 509,\n",
       " 521,\n",
       " 523,\n",
       " 541,\n",
       " 547,\n",
       " 557,\n",
       " 563,\n",
       " 569,\n",
       " 571,\n",
       " 577,\n",
       " 587,\n",
       " 593,\n",
       " 599,\n",
       " 601,\n",
       " 607,\n",
       " 613,\n",
       " 617,\n",
       " 619,\n",
       " 631,\n",
       " 641,\n",
       " 643,\n",
       " 647,\n",
       " 653,\n",
       " 659,\n",
       " 661,\n",
       " 673,\n",
       " 677,\n",
       " 683,\n",
       " 691,\n",
       " 701,\n",
       " 709,\n",
       " 719,\n",
       " 727,\n",
       " 733,\n",
       " 739,\n",
       " 743,\n",
       " 751,\n",
       " 757,\n",
       " 761,\n",
       " 769,\n",
       " 773,\n",
       " 787,\n",
       " 797,\n",
       " 809,\n",
       " 811,\n",
       " 821,\n",
       " 823,\n",
       " 827,\n",
       " 829,\n",
       " 839,\n",
       " 853,\n",
       " 857,\n",
       " 859,\n",
       " 863,\n",
       " 877,\n",
       " 881,\n",
       " 883,\n",
       " 887,\n",
       " 907,\n",
       " 911,\n",
       " 919,\n",
       " 929,\n",
       " 937,\n",
       " 941,\n",
       " 947,\n",
       " 953,\n",
       " 967,\n",
       " 971,\n",
       " 977,\n",
       " 983,\n",
       " 991,\n",
       " 997]"
      ]
     },
     "execution_count": 17,
     "metadata": {},
     "output_type": "execute_result"
    }
   ],
   "source": [
    "n"
   ]
  },
  {
   "cell_type": "code",
   "execution_count": 18,
   "id": "0d47e7a7-982e-4349-a11b-1f0ae91f45a7",
   "metadata": {},
   "outputs": [
    {
     "name": "stdout",
     "output_type": "stream",
     "text": [
      "3\n",
      "5\n",
      "7\n",
      "11\n",
      "13\n",
      "17\n",
      "19\n",
      "23\n",
      "29\n",
      "31\n",
      "37\n",
      "41\n",
      "43\n",
      "47\n",
      "53\n",
      "59\n",
      "61\n",
      "67\n",
      "71\n",
      "73\n"
     ]
    }
   ],
   "source": [
    "# Program to get the first 20 prime number using next () method.\n",
    "m = iter(n)\n",
    "count = 1\n",
    "while count < 21:\n",
    "    print(next(m))\n",
    "    count = count + 1"
   ]
  },
  {
   "cell_type": "code",
   "execution_count": 19,
   "id": "41c92085-0e6c-41f2-ad23-9824dc0ec1ee",
   "metadata": {},
   "outputs": [],
   "source": [
    "#Q6. Write a python program to print the first 10 Fibonacci numbers using a while loop."
   ]
  },
  {
   "cell_type": "code",
   "execution_count": 23,
   "id": "d62c4d41-50e1-4483-8a38-6cc8044b492c",
   "metadata": {},
   "outputs": [
    {
     "name": "stdout",
     "output_type": "stream",
     "text": [
      "0\n",
      "1\n",
      "1\n",
      "2\n",
      "3\n",
      "5\n",
      "8\n",
      "13\n",
      "21\n",
      "34\n"
     ]
    }
   ],
   "source": [
    "# Program to print the first 10 fibonacci numbers using while loop.\n",
    "count = 1\n",
    "a,b = 0,1\n",
    "while count <11:\n",
    "    print(a)\n",
    "    a,b = b, a+b \n",
    "    count = count +1"
   ]
  },
  {
   "cell_type": "code",
   "execution_count": 22,
   "id": "0d0b012f-0150-4696-b0f9-60113d651c18",
   "metadata": {},
   "outputs": [],
   "source": [
    "# Q7. Write a List Comprehension to iterate through the given string: ‘pwskills’.\n",
    "#     Expected output: ['p', 'w', 's', 'k', 'i', 'l', 'l', 's']"
   ]
  },
  {
   "cell_type": "code",
   "execution_count": 5,
   "id": "b026d5eb-686b-48f8-b985-91a5e919bdf6",
   "metadata": {},
   "outputs": [
    {
     "data": {
      "text/plain": [
       "['p', 'w', 's', 'k', 'i', 'l', 'l', 's']"
      ]
     },
     "execution_count": 5,
     "metadata": {},
     "output_type": "execute_result"
    }
   ],
   "source": [
    "n = \"pwskills\"\n",
    "[i for i in n]"
   ]
  },
  {
   "cell_type": "code",
   "execution_count": null,
   "id": "9c997d41-fb43-479e-a266-747a8cc0adee",
   "metadata": {},
   "outputs": [],
   "source": [
    "#Q8. Write a python program to check whether a given number is Palindrome or not using a while loop."
   ]
  },
  {
   "cell_type": "code",
   "execution_count": 19,
   "id": "2b288d0f-97bc-4531-9ab5-ac6a72b16dd4",
   "metadata": {},
   "outputs": [
    {
     "name": "stdin",
     "output_type": "stream",
     "text": [
      "Enter a number 1221\n"
     ]
    },
    {
     "name": "stdout",
     "output_type": "stream",
     "text": [
      "Palindrome\n"
     ]
    }
   ],
   "source": [
    "n = int(input(\"Enter a number\"))\n",
    "b = n\n",
    "num = 0\n",
    "while n > 0:\n",
    "    num = (num * 10) + (n % 10)\n",
    "    n = int(n/10)\n",
    "if b == num :\n",
    "    print(\"Palindrome\")\n",
    "else:\n",
    "    print(\"Not palindrome\")\n",
    "\n"
   ]
  },
  {
   "cell_type": "code",
   "execution_count": 1,
   "id": "a22c5b8a-ce2a-40ab-a6a6-d6696be4392a",
   "metadata": {},
   "outputs": [],
   "source": [
    "#Q9. Write a code to print odd numbers from 1 to 100 using list comprehension."
   ]
  },
  {
   "cell_type": "code",
   "execution_count": 2,
   "id": "359d7b33-b57e-40b6-beff-e86cec25d5b2",
   "metadata": {},
   "outputs": [
    {
     "data": {
      "text/plain": [
       "[1,\n",
       " 3,\n",
       " 5,\n",
       " 7,\n",
       " 9,\n",
       " 11,\n",
       " 13,\n",
       " 15,\n",
       " 17,\n",
       " 19,\n",
       " 21,\n",
       " 23,\n",
       " 25,\n",
       " 27,\n",
       " 29,\n",
       " 31,\n",
       " 33,\n",
       " 35,\n",
       " 37,\n",
       " 39,\n",
       " 41,\n",
       " 43,\n",
       " 45,\n",
       " 47,\n",
       " 49,\n",
       " 51,\n",
       " 53,\n",
       " 55,\n",
       " 57,\n",
       " 59,\n",
       " 61,\n",
       " 63,\n",
       " 65,\n",
       " 67,\n",
       " 69,\n",
       " 71,\n",
       " 73,\n",
       " 75,\n",
       " 77,\n",
       " 79,\n",
       " 81,\n",
       " 83,\n",
       " 85,\n",
       " 87,\n",
       " 89,\n",
       " 91,\n",
       " 93,\n",
       " 95,\n",
       " 97,\n",
       " 99]"
      ]
     },
     "execution_count": 2,
     "metadata": {},
     "output_type": "execute_result"
    }
   ],
   "source": [
    "#program to print odd numbers from 1 to 100 using list comprehension.\n",
    "[i for i in range(1,101) if i % 2 != 0]"
   ]
  },
  {
   "cell_type": "code",
   "execution_count": null,
   "id": "86f13719-ce2c-4371-8368-5958ae199dc9",
   "metadata": {},
   "outputs": [],
   "source": []
  }
 ],
 "metadata": {
  "kernelspec": {
   "display_name": "Python 3 (ipykernel)",
   "language": "python",
   "name": "python3"
  },
  "language_info": {
   "codemirror_mode": {
    "name": "ipython",
    "version": 3
   },
   "file_extension": ".py",
   "mimetype": "text/x-python",
   "name": "python",
   "nbconvert_exporter": "python",
   "pygments_lexer": "ipython3",
   "version": "3.10.8"
  }
 },
 "nbformat": 4,
 "nbformat_minor": 5
}
