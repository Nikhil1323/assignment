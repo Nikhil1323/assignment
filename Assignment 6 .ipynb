{
 "cells": [
  {
   "cell_type": "code",
   "execution_count": 1,
   "id": "99ade8a0-5572-404a-9c16-4d27bb155b13",
   "metadata": {},
   "outputs": [
    {
     "data": {
      "text/plain": [
       "'\\n   Marks     Grade\\n>90           A\\n>80 and <=90  B\\n>=60 and <=80 C\\n<60           D\\n'"
      ]
     },
     "execution_count": 1,
     "metadata": {},
     "output_type": "execute_result"
    }
   ],
   "source": [
    "#Q1. Write a program to accept percentage from the user and display the grade according to following criteria.\n",
    "\"\"\"\n",
    "   Marks     Grade\n",
    ">90           A\n",
    ">80 and <=90  B\n",
    ">=60 and <=80 C\n",
    "<60           D\n",
    "\"\"\""
   ]
  },
  {
   "cell_type": "code",
   "execution_count": 4,
   "id": "ac60d774-d2fb-4566-8957-a1bba4e53714",
   "metadata": {},
   "outputs": [
    {
     "name": "stdin",
     "output_type": "stream",
     "text": [
      "Enter Percentage :  55\n"
     ]
    },
    {
     "name": "stdout",
     "output_type": "stream",
     "text": [
      "Grade D\n"
     ]
    }
   ],
   "source": [
    "percentage = float(input(\"Enter Percentage : \"))\n",
    "if percentage > 90:\n",
    "    print(\"Grade A\")\n",
    "elif percentage >80 and percentage <=90 :\n",
    "    print(\"Grade B\")\n",
    "elif percentage >=60 and percentage <=80 :\n",
    "    print(\"Grade C\")\n",
    "else:\n",
    "    print(\"Grade D\")"
   ]
  },
  {
   "cell_type": "code",
   "execution_count": 5,
   "id": "4226147f-44f5-4fe4-ab39-b193537e4a3b",
   "metadata": {},
   "outputs": [
    {
     "data": {
      "text/plain": [
       "'\\nTax          Cost Price (in Rs)\\n15%             >100000\\n10%            >50000 and <= 100000\\n5%              <=50000\\n'"
      ]
     },
     "execution_count": 5,
     "metadata": {},
     "output_type": "execute_result"
    }
   ],
   "source": [
    "#Q2. Write a program to accept the cost price of a bike and display the road tax to be paid according to following criteria\n",
    "\"\"\"\n",
    "Tax          Cost Price (in Rs)\n",
    "15%             >100000\n",
    "10%            >50000 and <= 100000\n",
    "5%              <=50000\n",
    "\"\"\""
   ]
  },
  {
   "cell_type": "code",
   "execution_count": 11,
   "id": "2ecaf45d-d316-4aa7-be43-34d006793b43",
   "metadata": {},
   "outputs": [
    {
     "name": "stdin",
     "output_type": "stream",
     "text": [
      "Enter the Cost price of bike:  82000\n"
     ]
    },
    {
     "name": "stdout",
     "output_type": "stream",
     "text": [
      "Tax is 10%\n",
      "Total amount including Road tax is 90200.0\n"
     ]
    }
   ],
   "source": [
    "cost_price_bike = int(input(\"Enter the Cost price of bike: \"))\n",
    "if cost_price_bike >100000:\n",
    "    print(\"Tax is 15%\")\n",
    "    tax = cost_price_bike + ((cost_price_bike *15)/100)\n",
    "    print(\"Total amount including Road Tax is {}\".format(tax))\n",
    "elif cost_price_bike >50000 and cost_price_bike <= 100000:\n",
    "    print(\"Tax is 10%\")\n",
    "    tax = cost_price_bike + ((cost_price_bike *10)/100)\n",
    "    print(\"Total amount including Road tax is {}\".format(tax))\n",
    "else:\n",
    "    print(\"Tax is 5%\")\n",
    "    tax = cost_price_bike + ((cost_price_bike *5)/100)\n",
    "    print(\"Total amount including road tax is {}\".format(tax))"
   ]
  },
  {
   "cell_type": "code",
   "execution_count": 13,
   "id": "67001bb5-9708-4746-9ce4-bfbff61b98ac",
   "metadata": {},
   "outputs": [
    {
     "data": {
      "text/plain": [
       "'\\nCity            Monument\\nDelhi          Red Fort\\nAgra           Taj Mahal\\nJaipur         Jal Mahal\\n'"
      ]
     },
     "execution_count": 13,
     "metadata": {},
     "output_type": "execute_result"
    }
   ],
   "source": [
    "#Q3.  Accept any city from the user and display the monuments of that city\n",
    "\"\"\"\n",
    "City            Monument\n",
    "Delhi          Red Fort\n",
    "Agra           Taj Mahal\n",
    "Jaipur         Jal Mahal\n",
    "\"\"\""
   ]
  },
  {
   "cell_type": "code",
   "execution_count": 25,
   "id": "5c0cd50e-597c-44ba-961a-e61c83109b4d",
   "metadata": {},
   "outputs": [
    {
     "name": "stdin",
     "output_type": "stream",
     "text": [
      "Select any one city from \n",
      " Delhi \n",
      " Agra \n",
      " Jaipur : Delhi\n"
     ]
    },
    {
     "name": "stdout",
     "output_type": "stream",
     "text": [
      "Monument in Delhi is Red Fort\n"
     ]
    }
   ],
   "source": [
    "city = input(\"Select any one city from \\n Delhi \\n Agra \\n Jaipur :\")\n",
    "a = city.lower()\n",
    "if a == \"delhi\":\n",
    "    print(\"Monument in Delhi is \" + \"Red Fort\")\n",
    "if a == \"agra\":\n",
    "    print(\"Monument in Agra is \" + \"Taj Mahal\")\n",
    "if a == \"jaipur\":\n",
    "    print(\"Monument in Jaipur is \" + \"Jal Mahal\")"
   ]
  },
  {
   "cell_type": "code",
   "execution_count": 26,
   "id": "6ab04890-4a9b-4b79-b10a-5823db8a5137",
   "metadata": {},
   "outputs": [],
   "source": [
    "#Q4. Check out how many times a number can be divided by 3 before it is less than or equal to 10"
   ]
  },
  {
   "cell_type": "code",
   "execution_count": 2,
   "id": "ae7c5cf4-5146-4efc-88ff-d8b3f4638136",
   "metadata": {},
   "outputs": [
    {
     "name": "stdin",
     "output_type": "stream",
     "text": [
      "Enter a Number:  100\n"
     ]
    },
    {
     "name": "stdout",
     "output_type": "stream",
     "text": [
      "The given Number can be divided 3 times\n"
     ]
    }
   ],
   "source": [
    "num = int(input(\"Enter a Number: \"))\n",
    "count = 0\n",
    "while num >=10:\n",
    "    count = count +1\n",
    "    num = int(num/3)\n",
    "    \n",
    "print(\"The given Number can be divided {} times\".format(count))"
   ]
  },
  {
   "cell_type": "code",
   "execution_count": 4,
   "id": "8c14189d-0bc0-46cc-b1fd-b20cd038c5e4",
   "metadata": {},
   "outputs": [],
   "source": [
    "#Q5. Why and when to use While loop in python give a detailed description with example."
   ]
  },
  {
   "cell_type": "code",
   "execution_count": null,
   "id": "761ca50d-a3c2-49a4-8bb5-76c68ff56ab2",
   "metadata": {},
   "outputs": [],
   "source": [
    "While loop in python is used to perform same operations repeatedly until the required condition is true.\n",
    "It is used instead of for loop because before entering into loop it checks the condition and executes only if it is true,\n",
    "unlike the for loop which performs the 1st iteration irrespective of the condition being true or false.\n",
    "\n",
    "For example:\n",
    "    if we want to give 10 objects to 10 people we use for loop, as here we give the objects indiscriminately.\n",
    "    But if we want to give 5 objects to 5 people but we must first ascertain that the people receiving the object should be aged >60 \n",
    "    then while loop can be used.\n"
   ]
  },
  {
   "cell_type": "code",
   "execution_count": 5,
   "id": "e1d127e5-e9bd-43bd-9732-ccbeea0f5e8b",
   "metadata": {},
   "outputs": [],
   "source": [
    "#Q6.Use nested while loop to print 3 different patterns"
   ]
  },
  {
   "cell_type": "code",
   "execution_count": 30,
   "id": "8b4399d9-6a9a-4d88-ae7b-27267a22a81f",
   "metadata": {},
   "outputs": [
    {
     "name": "stdout",
     "output_type": "stream",
     "text": [
      "\n",
      "\n",
      "1 \n",
      "\n",
      "2 1 \n",
      "\n",
      "3 2 1 \n",
      "\n",
      "4 3 2 1 \n",
      "\n"
     ]
    }
   ],
   "source": [
    "count = 5\n",
    "i = 1\n",
    "j=5\n",
    "while i <= count:\n",
    "    j= i-1\n",
    "    while j>0:\n",
    "        print(j, end = \" \")\n",
    "        j = j -1\n",
    "    i = i+1\n",
    "    print(\"\\n\")"
   ]
  },
  {
   "cell_type": "code",
   "execution_count": 2,
   "id": "d46ba078-90f7-4793-97d2-d8fda88c0d79",
   "metadata": {},
   "outputs": [
    {
     "name": "stdout",
     "output_type": "stream",
     "text": [
      "4 3 2 1 \n",
      "\n",
      "3 2 1 \n",
      "\n",
      "2 1 \n",
      "\n",
      "1 \n",
      "\n",
      "\n",
      "\n"
     ]
    }
   ],
   "source": [
    "count = 1\n",
    "i = 5\n",
    "j = 0\n",
    "while i >= count:\n",
    "    j= i-1\n",
    "    while j>0:\n",
    "        print(j, end = \" \")\n",
    "        j = j -1\n",
    "    i = i-1\n",
    "    print(\"\\n\")"
   ]
  },
  {
   "cell_type": "code",
   "execution_count": 3,
   "id": "01f57c54-b05b-43ce-aae5-63651d607394",
   "metadata": {},
   "outputs": [
    {
     "name": "stdout",
     "output_type": "stream",
     "text": [
      "\n",
      "\n",
      "* \n",
      "\n",
      "* * \n",
      "\n",
      "* * * \n",
      "\n",
      "* * * * \n",
      "\n",
      "* * * * \n",
      "\n",
      "* * * \n",
      "\n",
      "* * \n",
      "\n",
      "* \n",
      "\n",
      "\n",
      "\n"
     ]
    }
   ],
   "source": [
    "count = 5\n",
    "i = 1\n",
    "j=5\n",
    "while i <= count:\n",
    "    j= i-1\n",
    "    while j>0:\n",
    "        print(\"*\", end = \" \")\n",
    "        j = j -1\n",
    "    i = i+1\n",
    "    print(\"\\n\")\n",
    "count = 1\n",
    "i = 5\n",
    "j = 0\n",
    "while i >= count:\n",
    "    j= i-1\n",
    "    while j>0:\n",
    "        print(\"*\", end = \" \")\n",
    "        j = j -1\n",
    "    i = i-1\n",
    "    print(\"\\n\")\n"
   ]
  },
  {
   "cell_type": "code",
   "execution_count": 4,
   "id": "fd795502-275f-4b52-9ae3-e778b0b92f51",
   "metadata": {},
   "outputs": [],
   "source": [
    "#Q7. Reverse a while loop to display numbers from 1 to 10"
   ]
  },
  {
   "cell_type": "code",
   "execution_count": 9,
   "id": "2d194880-6b88-48cf-a152-b9a4851b8509",
   "metadata": {},
   "outputs": [
    {
     "name": "stdout",
     "output_type": "stream",
     "text": [
      "10\n",
      "9\n",
      "8\n",
      "7\n",
      "6\n",
      "5\n",
      "4\n",
      "3\n",
      "2\n",
      "1\n"
     ]
    }
   ],
   "source": [
    "count = 10\n",
    "i = 1\n",
    "while i<= count:\n",
    "    print(count)\n",
    "    count = count -1"
   ]
  },
  {
   "cell_type": "code",
   "execution_count": null,
   "id": "96e41dc1-6b81-42d3-9e5d-47669bdef036",
   "metadata": {},
   "outputs": [],
   "source": []
  }
 ],
 "metadata": {
  "kernelspec": {
   "display_name": "Python 3 (ipykernel)",
   "language": "python",
   "name": "python3"
  },
  "language_info": {
   "codemirror_mode": {
    "name": "ipython",
    "version": 3
   },
   "file_extension": ".py",
   "mimetype": "text/x-python",
   "name": "python",
   "nbconvert_exporter": "python",
   "pygments_lexer": "ipython3",
   "version": "3.10.8"
  }
 },
 "nbformat": 4,
 "nbformat_minor": 5
}
