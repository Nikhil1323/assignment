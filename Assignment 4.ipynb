{
 "cells": [
  {
   "cell_type": "code",
   "execution_count": 1,
   "id": "20844e50-4878-49b6-97a7-fdb19c69cbbd",
   "metadata": {},
   "outputs": [],
   "source": [
    "#Q1. Create a python program to sort the given list of tuples based on integer value using a\n",
    "#    lambda function.\n",
    "#    [('Sachin Tendulkar', 34357), ('Ricky Ponting', 27483), ('Jack Kallis', 25534), ('Virat Kohli', 24936)]\\"
   ]
  },
  {
   "cell_type": "code",
   "execution_count": 56,
   "id": "6832b286-c1fa-426b-95f2-51f59f231957",
   "metadata": {},
   "outputs": [
    {
     "data": {
      "text/plain": [
       "[('Virat Kohli', 24936),\n",
       " ('Jack Kallis', 25534),\n",
       " ('Ricky Ponting', 27483),\n",
       " ('Sachin Tendulkar', 34357)]"
      ]
     },
     "execution_count": 56,
     "metadata": {},
     "output_type": "execute_result"
    }
   ],
   "source": [
    "l=[('Sachin Tendulkar', 34357), ('Ricky Ponting', 27483), ('Jack Kallis', 25534),('Virat Kohli', 24936)]\n",
    "sorted(l,key = lambda x: x[1])"
   ]
  },
  {
   "cell_type": "code",
   "execution_count": 49,
   "id": "dab8080d-03e5-49e9-b322-fa7e92f1835e",
   "metadata": {},
   "outputs": [],
   "source": [
    "#  Q2. Write a Python Program to find the squares of all the numbers in the given list of integers using\n",
    "#   lambda and map functions.\n",
    "#   [1, 2, 3, 4, 5, 6, 7, 8, 9, 10]"
   ]
  },
  {
   "cell_type": "code",
   "execution_count": 28,
   "id": "9e52bbc7-9556-4528-a6b4-2fec56d06668",
   "metadata": {},
   "outputs": [
    {
     "data": {
      "text/plain": [
       "[1, 4, 9, 16, 25, 36, 49, 64, 81, 100]"
      ]
     },
     "execution_count": 28,
     "metadata": {},
     "output_type": "execute_result"
    }
   ],
   "source": [
    "l5 = [1,2,3,4,5,6,7,8,9,10]\n",
    "squares = list(map(lambda n : n**2 , l5))\n",
    "squares"
   ]
  },
  {
   "cell_type": "code",
   "execution_count": 3,
   "id": "aee1bdae-29fb-4105-866f-091777136c74",
   "metadata": {},
   "outputs": [],
   "source": [
    "# Q3. Write a python program to convert the given list of integers into a tuple of strings. Use map and\n",
    "#     lambda functions\n",
    "#     Given String: [1, 2, 3, 4, 5, 6, 7, 8, 9, 10]\n",
    "#     Expected output: ('1', '2', '3', '4', '5', '6', '7', '8', '9', '10')"
   ]
  },
  {
   "cell_type": "code",
   "execution_count": null,
   "id": "97fd1175-a4f1-402a-b66d-a02b2a6ba983",
   "metadata": {},
   "outputs": [],
   "source": [
    "l1 = [1,2,3,4,5,6,7,8,9,10]"
   ]
  },
  {
   "cell_type": "code",
   "execution_count": 4,
   "id": "fa3d25f1-6ad2-4de0-a6c8-ad3d19fe5b2d",
   "metadata": {},
   "outputs": [],
   "source": [
    "#  Q4. Write a python program using reduce function to compute the product of a list containing numbers\n",
    "#     from 1 to 25."
   ]
  },
  {
   "cell_type": "code",
   "execution_count": 27,
   "id": "5f9c4e5b-6547-4d0c-b819-20a4314af76e",
   "metadata": {},
   "outputs": [
    {
     "name": "stdout",
     "output_type": "stream",
     "text": [
      "15511210043330985984000000\n"
     ]
    }
   ],
   "source": [
    "from functools import reduce\n",
    "n = list(range(1,26))\n",
    "product = reduce((lambda x,y : x*y), n)\n",
    "print(product)"
   ]
  },
  {
   "cell_type": "code",
   "execution_count": 5,
   "id": "2556a322-b6e6-4ab6-b0d4-4737bf8d4cfd",
   "metadata": {},
   "outputs": [],
   "source": [
    "#Q5.Write a python program to filter the numbers in a given list that are divisible by 2 and 3 using the\n",
    "#     filter function.\n",
    "#     [2, 3, 6, 9, 27, 60, 90, 120, 55, 46]"
   ]
  },
  {
   "cell_type": "code",
   "execution_count": 29,
   "id": "649142b8-6e43-4f26-889d-5c777b0f27d6",
   "metadata": {},
   "outputs": [
    {
     "data": {
      "text/plain": [
       "[6, 60, 90, 120]"
      ]
     },
     "execution_count": 29,
     "metadata": {},
     "output_type": "execute_result"
    }
   ],
   "source": [
    "l3 = [2,3,6,9,27,60,90,120,55,46]\n",
    "divisible = list(filter(lambda c : c % 2 == 0 and c % 3 == 0, l3))\n",
    "divisible"
   ]
  },
  {
   "cell_type": "code",
   "execution_count": 6,
   "id": "7162b578-940a-46dd-95fe-e2b90784242f",
   "metadata": {},
   "outputs": [],
   "source": [
    "# Q6. Write a python program to find palindromes in the given list of strings using lambda and filter\n",
    "#      function.\n",
    "#      ['python', 'php', 'aba', 'radar', 'level']"
   ]
  },
  {
   "cell_type": "code",
   "execution_count": 38,
   "id": "3972e270-59b8-4072-8e5a-e163964cfb91",
   "metadata": {},
   "outputs": [
    {
     "data": {
      "text/plain": [
       "['php', 'aba', 'radar']"
      ]
     },
     "execution_count": 38,
     "metadata": {},
     "output_type": "execute_result"
    }
   ],
   "source": [
    "c = ['python', 'php', 'aba', 'radar', 'lavel']\n",
    "palindrome = list(filter(lambda x : (x == \"\".join(reversed(x))),c))\n",
    "palindrome"
   ]
  }
 ],
 "metadata": {
  "kernelspec": {
   "display_name": "Python 3 (ipykernel)",
   "language": "python",
   "name": "python3"
  },
  "language_info": {
   "codemirror_mode": {
    "name": "ipython",
    "version": 3
   },
   "file_extension": ".py",
   "mimetype": "text/x-python",
   "name": "python",
   "nbconvert_exporter": "python",
   "pygments_lexer": "ipython3",
   "version": "3.10.8"
  }
 },
 "nbformat": 4,
 "nbformat_minor": 5
}
