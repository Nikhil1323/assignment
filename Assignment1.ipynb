{
 "cells": [
  {
   "cell_type": "code",
   "execution_count": 1,
   "id": "8e25590a-9bc8-47dc-aa0d-ff698ed333ec",
   "metadata": {},
   "outputs": [],
   "source": [
    "#Q1. Explain with an example each when to use a for loop and a while loop."
   ]
  },
  {
   "cell_type": "markdown",
   "id": "a99856d7-cfa3-4ba2-8874-75d603ad6c81",
   "metadata": {},
   "source": [
    "1.Looping is used to perform iterable operations like retriving data or performing task like addition, multiplication, etc on a group of data.\n",
    "2.This group of data may be present/stored in the data types like lists, sets, dictionary, tuples ,etc\n",
    "3.There are different inbult functions and keywords used for looping such as For and while.\n",
    "4. [A] For loop is used when we need to exececute iteration whithout checking for the condition first.\n",
    "   [B] Example: To get the names of all clients  in the company we use for loop.\n",
    "5.[A] While loop can be said to be conditional-for-loop. As it executes only if the given condition satisfies in the first place.\n",
    "  [B] Example: To get the names of all the clients who belongs to particular region, we use while loop."
   ]
  },
  {
   "cell_type": "code",
   "execution_count": 3,
   "id": "67db4713-27fc-48d6-92eb-02e24c7fc05b",
   "metadata": {},
   "outputs": [],
   "source": [
    "#Write a python program to print the sum and product of the first 10 natural numbers using for and while loop."
   ]
  },
  {
   "cell_type": "code",
   "execution_count": 4,
   "id": "6174c75e-5d5a-4bbb-b6ea-35595cd0e593",
   "metadata": {},
   "outputs": [
    {
     "name": "stdout",
     "output_type": "stream",
     "text": [
      "Sum of the 1st 10 Natural Numbers is  55\n",
      "Product of 1st 10 Natural Number is  3628800\n"
     ]
    }
   ],
   "source": [
    "# Program to print sum and product of first 10 natural numbers using for-loop.\n",
    "add = 0\n",
    "product =1\n",
    "for i in range(1,11) :\n",
    "    add =add +i\n",
    "    product = product * i\n",
    "print(\"Sum of the 1st 10 Natural Numbers is \", add)\n",
    "print(\"Product of 1st 10 Natural Number is \", product)\n"
   ]
  },
  {
   "cell_type": "code",
   "execution_count": 6,
   "id": "f4233bf4-060b-4226-acd2-6bd0e8b1c77b",
   "metadata": {},
   "outputs": [
    {
     "name": "stdout",
     "output_type": "stream",
     "text": [
      "Sum of 1st 10 Natural Numbers is  55\n",
      "Product of 1st 10 Natural number is  3628800\n"
     ]
    }
   ],
   "source": [
    "#Program to print sum and product of first 10 Natural number using while loop\n",
    "add = 0\n",
    "product = 1\n",
    "count = 1\n",
    "while count < 11 :\n",
    "    add = add + count\n",
    "    product = product * count\n",
    "    count = count + 1\n",
    "print(\"Sum of 1st 10 Natural Numbers is \",add)\n",
    "print(\"Product of 1st 10 Natural number is \",product)"
   ]
  },
  {
   "cell_type": "markdown",
   "id": "ca690464-2b23-4813-9727-09910e46e10a",
   "metadata": {},
   "source": [
    "Q3. Create a python program to compute the electricity bill for a household.\n",
    "The per-unit charges in rupees are as follows: For the first 100 units, the user will be charged Rs. 4.5 per\n",
    "unit, for the next 100 units, the user will be charged Rs. 6 per unit, and for the next 100 units, the user will\n",
    "be charged Rs. 10 per unit, After 300 units and above the user will be charged Rs. 20 per unit.\n",
    "You are required to take the units of electricity consumed in a month from the user as input."
   ]
  },
  {
   "cell_type": "code",
   "execution_count": 11,
   "id": "4d491ce7-7bc9-46e5-9752-5d1dbe7bdfae",
   "metadata": {},
   "outputs": [
    {
     "name": "stdin",
     "output_type": "stream",
     "text": [
      "Please Enter the number of Units Consumed: 310\n"
     ]
    },
    {
     "name": "stdout",
     "output_type": "stream",
     "text": [
      "The Electricity Bill Of Household is :  2250.0\n"
     ]
    }
   ],
   "source": [
    "# Program to compute the Electricity bill of household.\n",
    "units = int(input(\"Please Enter the number of Units Consumed:\"))\n",
    "charges =0\n",
    "if units <=100 :\n",
    "    charges = 4.5 * units\n",
    "elif units >100 and units <= 200 :\n",
    "    charges = 4.5 * 100\n",
    "    units = units -100\n",
    "    charges = charges + (units *6)\n",
    "elif units >200 and units <= 300 :\n",
    "    charges = (4.5*100) + (6 * 100)\n",
    "    units = units - 200\n",
    "    charges = charges + (units * 10)\n",
    "elif units > 300 :\n",
    "    charges = (4.5 * 100) + (6 * 100) + (10*100) \n",
    "    units = units - 300\n",
    "    charges = charges + (units * 20)\n",
    "Please Enter the number of Units Consumed: 310\n"
    "print(\"The Electricity Bill Of Household is : \",charges)"
   ]
  },
  {
   "cell_type": "markdown",
   "id": "aacfe23c-d1a2-4d0f-8041-ccb09cfd6cd6",
   "metadata": {},
   "source": [
    "#Q4. Create a list of numbers from 1 to 100. Use for loop and while loop to calculate the cube of each\n",
    "number and if the cube of that number is divisible by 4 or 5 then append that number in a list and print\n",
    "that list."
   ]
  },
  {
   "cell_type": "code",
   "execution_count": 15,
   "id": "1fb468f3-bb0f-4363-ad1a-88364c7b519f",
   "metadata": {},
   "outputs": [
    {
     "data": {
      "text/plain": [
       "[2,\n",
       " 4,\n",
       " 5,\n",
       " 6,\n",
       " 8,\n",
       " 10,\n",
       " 12,\n",
       " 14,\n",
       " 15,\n",
       " 16,\n",
       " 18,\n",
       " 20,\n",
       " 22,\n",
       " 24,\n",
       " 25,\n",
       " 26,\n",
       " 28,\n",
       " 30,\n",
       " 32,\n",
       " 34,\n",
       " 35,\n",
       " 36,\n",
       " 38,\n",
       " 40,\n",
       " 42,\n",
       " 44,\n",
       " 45,\n",
       " 46,\n",
       " 48,\n",
       " 50,\n",
       " 52,\n",
       " 54,\n",
       " 55,\n",
       " 56,\n",
       " 58,\n",
       " 60,\n",
       " 62,\n",
       " 64,\n",
       " 65,\n",
       " 66,\n",
       " 68,\n",
       " 70,\n",
       " 72,\n",
       " 74,\n",
       " 75,\n",
       " 76,\n",
       " 78,\n",
       " 80,\n",
       " 82,\n",
       " 84,\n",
       " 85,\n",
       " 86,\n",
       " 88,\n",
       " 90,\n",
       " 92,\n",
       " 94,\n",
       " 95,\n",
       " 96,\n",
       " 98,\n",
       " 100]"
      ]
     },
     "execution_count": 15,
     "metadata": {},
     "output_type": "execute_result"
    }
   ],
   "source": [
    "#Programe to create a list of numbers whose cube is divisible either by 4 or by 5 using for-loop\n",
    "l = list(range(1,101))\n",
    "l1 = []\n",
    "for i in l :\n",
    "    a = i**3\n",
    "    if a % 4 == 0 or a % 5 == 0 :\n",
    "        l1.append(i)\n",
    "l1    "
   ]
  },
  {
   "cell_type": "code",
   "execution_count": 1,
   "id": "39814ade-a88f-4374-87f4-7d765abb0eb4",
   "metadata": {},
   "outputs": [
    {
     "data": {
      "text/plain": [
       "[2,\n",
       " 4,\n",
       " 5,\n",
       " 6,\n",
       " 8,\n",
       " 10,\n",
       " 12,\n",
       " 14,\n",
       " 15,\n",
       " 16,\n",
       " 18,\n",
       " 20,\n",
       " 22,\n",
       " 24,\n",
       " 25,\n",
       " 26,\n",
       " 28,\n",
       " 30,\n",
       " 32,\n",
       " 34,\n",
       " 35,\n",
       " 36,\n",
       " 38,\n",
       " 40,\n",
       " 42,\n",
       " 44,\n",
       " 45,\n",
       " 46,\n",
       " 48,\n",
       " 50,\n",
       " 52,\n",
       " 54,\n",
       " 55,\n",
       " 56,\n",
       " 58,\n",
       " 60,\n",
       " 62,\n",
       " 64,\n",
       " 65,\n",
       " 66,\n",
       " 68,\n",
       " 70,\n",
       " 72,\n",
       " 74,\n",
       " 75,\n",
       " 76,\n",
       " 78,\n",
       " 80,\n",
       " 82,\n",
       " 84,\n",
       " 85,\n",
       " 86,\n",
       " 88,\n",
       " 90,\n",
       " 92,\n",
       " 94,\n",
       " 95,\n",
       " 96,\n",
       " 98,\n",
       " 100]"
      ]
     },
     "execution_count": 1,
     "metadata": {},
     "output_type": "execute_result"
    }
   ],
   "source": [
    "#Program to create a list of numbers between 1 to 100 whose cube is divisble either by 4 or 5 using while loop\n",
    "l2 = list(range(1,101))\n",
    "l3 =[]\n",
    "count = 0\n",
    "while count <100:\n",
    "    a = l2[count]**3\n",
    "    if a % 4 == 0 or a % 5 ==0 :\n",
    "        l3.append(l2[count])\n",
    "    count = count + 1\n",
    "l3"
   ]
  },
  {
   "cell_type": "markdown",
   "id": "9f2fdd5d-3a5a-4353-9fb2-674f88bf095f",
   "metadata": {},
   "source": [
    "Q5. Write a program to filter count vowels in the below-given string.\n",
    "string = \"I want to become a data scientist\""
   ]
  },
  {
   "cell_type": "code",
   "execution_count": 5,
   "id": "45691a6d-20fc-4b27-93df-65635d2bf447",
   "metadata": {},
   "outputs": [
    {
     "name": "stdout",
     "output_type": "stream",
     "text": [
      "I\n",
      "a\n",
      "o\n",
      "e\n",
      "o\n",
      "e\n",
      "a\n",
      "a\n",
      "a\n",
      "i\n",
      "e\n",
      "i\n"
     ]
    }
   ],
   "source": [
    "string = \"I want to become a data scientist\"\n",
    "a = string.upper()\n",
    "for i in range(0,len(a)) :\n",
    "    if a[i] == \"A\" or a[i] == \"E\" or a[i] == \"I\" or a[i] == \"O\" or a[i] == \"U\" :\n",
    "        print((string[i]))"
   ]
  },
  {
   "cell_type": "code",
   "execution_count": null,
   "id": "5976f428-ff9b-4ea3-8312-9f4d91634f53",
   "metadata": {},
   "outputs": [],
   "source": []
  },
  {
   "cell_type": "code",
   "execution_count": null,
   "id": "a40caad5-6db8-47a1-8310-ac4aeec2e229",
   "metadata": {},
   "outputs": [],
   "source": []
  }
 ],
 "metadata": {
  "kernelspec": {
   "display_name": "Python 3 (ipykernel)",
   "language": "python",
   "name": "python3"
  },
  "language_info": {
   "codemirror_mode": {
    "name": "ipython",
    "version": 3
   },
   "file_extension": ".py",
   "mimetype": "text/x-python",
   "name": "python",
   "nbconvert_exporter": "python",
   "pygments_lexer": "ipython3",
   "version": "3.10.8"
  }
 },
 "nbformat": 4,
 "nbformat_minor": 5
}
